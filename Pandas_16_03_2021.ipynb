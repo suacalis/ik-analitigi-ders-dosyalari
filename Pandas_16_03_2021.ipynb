{
  "nbformat": 4,
  "nbformat_minor": 0,
  "metadata": {
    "colab": {
      "name": "Pandas 16.03.2021.ipynb",
      "provenance": []
    },
    "kernelspec": {
      "name": "python3",
      "display_name": "Python 3"
    }
  },
  "cells": [
    {
      "cell_type": "markdown",
      "metadata": {
        "id": "1kUkMz-m3RE2"
      },
      "source": [
        "![image.png](data:image/png;base64,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)"
      ]
    },
    {
      "cell_type": "markdown",
      "metadata": {
        "id": "rOOqiTRpGb32"
      },
      "source": [
        "Örnek 1"
      ]
    },
    {
      "cell_type": "code",
      "metadata": {
        "id": "VG3dF0sfU8Yl"
      },
      "source": [
        "import pandas as pd\n",
        "import numpy as np"
      ],
      "execution_count": 1,
      "outputs": []
    },
    {
      "cell_type": "code",
      "metadata": {
        "id": "gkwagwksKSpw"
      },
      "source": [
        "liste = {\n",
        "    'İsim':['Ada','Cem','Sibel','Ahmet','Mehmet','Ali','Veli','Ayşe','Hüseyin','Necmi','Nalan','Namık'],\n",
        "          'Meslek':['İşçi','İşçi','Memur','Serbest','Serbest','İşçi','İşçi','Sigortacı','İşçi','Memur','İşçi','Memur'],\n",
        "          'Tarih':['11.11.2010','11.11.2010','11.11.2010','18.11.2011','18.11.2011','19.11.2011','20.11.2011','17.11.2011','11.11.2010','16.11.2011','19.11.2011','20.11.2011'],          \n",
        "          'Yaş':[21, 24, 25, 44, 31, 27, 35, 33, 42, 29, 41, 43],\n",
        "          'Çocuk_Sayısı':[3, 5, 4, 3, 2, 1, 2, 0, 0, 2, 3, 4],\n",
        "          'Puan':[89, 87, 77, 55, 70, 79, 73, 79, 54, 92, 61, 69]\n",
        "         }"
      ],
      "execution_count": 68,
      "outputs": []
    },
    {
      "cell_type": "code",
      "metadata": {
        "id": "RgT7daFGDXud",
        "colab": {
          "base_uri": "https://localhost:8080/",
          "height": 419
        },
        "outputId": "93ca3d20-1f5f-4909-d1a6-a9f0282d4e9b"
      },
      "source": [
        "df = pd.DataFrame(liste)\n",
        "df"
      ],
      "execution_count": 69,
      "outputs": [
        {
          "output_type": "execute_result",
          "data": {
            "text/html": [
              "<div>\n",
              "<style scoped>\n",
              "    .dataframe tbody tr th:only-of-type {\n",
              "        vertical-align: middle;\n",
              "    }\n",
              "\n",
              "    .dataframe tbody tr th {\n",
              "        vertical-align: top;\n",
              "    }\n",
              "\n",
              "    .dataframe thead th {\n",
              "        text-align: right;\n",
              "    }\n",
              "</style>\n",
              "<table border=\"1\" class=\"dataframe\">\n",
              "  <thead>\n",
              "    <tr style=\"text-align: right;\">\n",
              "      <th></th>\n",
              "      <th>İsim</th>\n",
              "      <th>Meslek</th>\n",
              "      <th>Tarih</th>\n",
              "      <th>Yaş</th>\n",
              "      <th>Çocuk_Sayısı</th>\n",
              "      <th>Puan</th>\n",
              "    </tr>\n",
              "  </thead>\n",
              "  <tbody>\n",
              "    <tr>\n",
              "      <th>0</th>\n",
              "      <td>Ada</td>\n",
              "      <td>İşçi</td>\n",
              "      <td>11.11.2010</td>\n",
              "      <td>21</td>\n",
              "      <td>3</td>\n",
              "      <td>89</td>\n",
              "    </tr>\n",
              "    <tr>\n",
              "      <th>1</th>\n",
              "      <td>Cem</td>\n",
              "      <td>İşçi</td>\n",
              "      <td>11.11.2010</td>\n",
              "      <td>24</td>\n",
              "      <td>5</td>\n",
              "      <td>87</td>\n",
              "    </tr>\n",
              "    <tr>\n",
              "      <th>2</th>\n",
              "      <td>Sibel</td>\n",
              "      <td>Memur</td>\n",
              "      <td>11.11.2010</td>\n",
              "      <td>25</td>\n",
              "      <td>4</td>\n",
              "      <td>77</td>\n",
              "    </tr>\n",
              "    <tr>\n",
              "      <th>3</th>\n",
              "      <td>Ahmet</td>\n",
              "      <td>Serbest</td>\n",
              "      <td>18.11.2011</td>\n",
              "      <td>44</td>\n",
              "      <td>3</td>\n",
              "      <td>55</td>\n",
              "    </tr>\n",
              "    <tr>\n",
              "      <th>4</th>\n",
              "      <td>Mehmet</td>\n",
              "      <td>Serbest</td>\n",
              "      <td>18.11.2011</td>\n",
              "      <td>31</td>\n",
              "      <td>2</td>\n",
              "      <td>70</td>\n",
              "    </tr>\n",
              "    <tr>\n",
              "      <th>5</th>\n",
              "      <td>Ali</td>\n",
              "      <td>İşçi</td>\n",
              "      <td>19.11.2011</td>\n",
              "      <td>27</td>\n",
              "      <td>1</td>\n",
              "      <td>79</td>\n",
              "    </tr>\n",
              "    <tr>\n",
              "      <th>6</th>\n",
              "      <td>Veli</td>\n",
              "      <td>İşçi</td>\n",
              "      <td>20.11.2011</td>\n",
              "      <td>35</td>\n",
              "      <td>2</td>\n",
              "      <td>73</td>\n",
              "    </tr>\n",
              "    <tr>\n",
              "      <th>7</th>\n",
              "      <td>Ayşe</td>\n",
              "      <td>Sigortacı</td>\n",
              "      <td>17.11.2011</td>\n",
              "      <td>33</td>\n",
              "      <td>0</td>\n",
              "      <td>79</td>\n",
              "    </tr>\n",
              "    <tr>\n",
              "      <th>8</th>\n",
              "      <td>Hüseyin</td>\n",
              "      <td>İşçi</td>\n",
              "      <td>11.11.2010</td>\n",
              "      <td>42</td>\n",
              "      <td>0</td>\n",
              "      <td>54</td>\n",
              "    </tr>\n",
              "    <tr>\n",
              "      <th>9</th>\n",
              "      <td>Necmi</td>\n",
              "      <td>Memur</td>\n",
              "      <td>16.11.2011</td>\n",
              "      <td>29</td>\n",
              "      <td>2</td>\n",
              "      <td>92</td>\n",
              "    </tr>\n",
              "    <tr>\n",
              "      <th>10</th>\n",
              "      <td>Nalan</td>\n",
              "      <td>İşçi</td>\n",
              "      <td>19.11.2011</td>\n",
              "      <td>41</td>\n",
              "      <td>3</td>\n",
              "      <td>61</td>\n",
              "    </tr>\n",
              "    <tr>\n",
              "      <th>11</th>\n",
              "      <td>Namık</td>\n",
              "      <td>Memur</td>\n",
              "      <td>20.11.2011</td>\n",
              "      <td>43</td>\n",
              "      <td>4</td>\n",
              "      <td>69</td>\n",
              "    </tr>\n",
              "  </tbody>\n",
              "</table>\n",
              "</div>"
            ],
            "text/plain": [
              "       İsim     Meslek       Tarih  Yaş  Çocuk_Sayısı  Puan\n",
              "0       Ada       İşçi  11.11.2010   21             3    89\n",
              "1       Cem       İşçi  11.11.2010   24             5    87\n",
              "2     Sibel      Memur  11.11.2010   25             4    77\n",
              "3     Ahmet    Serbest  18.11.2011   44             3    55\n",
              "4    Mehmet    Serbest  18.11.2011   31             2    70\n",
              "5       Ali       İşçi  19.11.2011   27             1    79\n",
              "6      Veli       İşçi  20.11.2011   35             2    73\n",
              "7      Ayşe  Sigortacı  17.11.2011   33             0    79\n",
              "8   Hüseyin       İşçi  11.11.2010   42             0    54\n",
              "9     Necmi      Memur  16.11.2011   29             2    92\n",
              "10    Nalan       İşçi  19.11.2011   41             3    61\n",
              "11    Namık      Memur  20.11.2011   43             4    69"
            ]
          },
          "metadata": {
            "tags": []
          },
          "execution_count": 69
        }
      ]
    },
    {
      "cell_type": "code",
      "metadata": {
        "id": "9njbOEevnDcs",
        "colab": {
          "base_uri": "https://localhost:8080/",
          "height": 203
        },
        "outputId": "fea56f93-2277-4c3b-b2de-93ff0d535c14"
      },
      "source": [
        "df.head()"
      ],
      "execution_count": 72,
      "outputs": [
        {
          "output_type": "execute_result",
          "data": {
            "text/html": [
              "<div>\n",
              "<style scoped>\n",
              "    .dataframe tbody tr th:only-of-type {\n",
              "        vertical-align: middle;\n",
              "    }\n",
              "\n",
              "    .dataframe tbody tr th {\n",
              "        vertical-align: top;\n",
              "    }\n",
              "\n",
              "    .dataframe thead th {\n",
              "        text-align: right;\n",
              "    }\n",
              "</style>\n",
              "<table border=\"1\" class=\"dataframe\">\n",
              "  <thead>\n",
              "    <tr style=\"text-align: right;\">\n",
              "      <th></th>\n",
              "      <th>İsim</th>\n",
              "      <th>Meslek</th>\n",
              "      <th>Tarih</th>\n",
              "      <th>Yaş</th>\n",
              "      <th>Çocuk_Sayısı</th>\n",
              "      <th>Puan</th>\n",
              "    </tr>\n",
              "  </thead>\n",
              "  <tbody>\n",
              "    <tr>\n",
              "      <th>0</th>\n",
              "      <td>Ada</td>\n",
              "      <td>İşçi</td>\n",
              "      <td>11.11.2010</td>\n",
              "      <td>21</td>\n",
              "      <td>3</td>\n",
              "      <td>89</td>\n",
              "    </tr>\n",
              "    <tr>\n",
              "      <th>1</th>\n",
              "      <td>Cem</td>\n",
              "      <td>İşçi</td>\n",
              "      <td>11.11.2010</td>\n",
              "      <td>24</td>\n",
              "      <td>5</td>\n",
              "      <td>87</td>\n",
              "    </tr>\n",
              "    <tr>\n",
              "      <th>2</th>\n",
              "      <td>Sibel</td>\n",
              "      <td>Memur</td>\n",
              "      <td>11.11.2010</td>\n",
              "      <td>25</td>\n",
              "      <td>4</td>\n",
              "      <td>77</td>\n",
              "    </tr>\n",
              "    <tr>\n",
              "      <th>3</th>\n",
              "      <td>Ahmet</td>\n",
              "      <td>Serbest</td>\n",
              "      <td>18.11.2011</td>\n",
              "      <td>44</td>\n",
              "      <td>3</td>\n",
              "      <td>55</td>\n",
              "    </tr>\n",
              "    <tr>\n",
              "      <th>4</th>\n",
              "      <td>Mehmet</td>\n",
              "      <td>Serbest</td>\n",
              "      <td>18.11.2011</td>\n",
              "      <td>31</td>\n",
              "      <td>2</td>\n",
              "      <td>70</td>\n",
              "    </tr>\n",
              "  </tbody>\n",
              "</table>\n",
              "</div>"
            ],
            "text/plain": [
              "     İsim   Meslek       Tarih  Yaş  Çocuk_Sayısı  Puan\n",
              "0     Ada     İşçi  11.11.2010   21             3    89\n",
              "1     Cem     İşçi  11.11.2010   24             5    87\n",
              "2   Sibel    Memur  11.11.2010   25             4    77\n",
              "3   Ahmet  Serbest  18.11.2011   44             3    55\n",
              "4  Mehmet  Serbest  18.11.2011   31             2    70"
            ]
          },
          "metadata": {
            "tags": []
          },
          "execution_count": 72
        }
      ]
    },
    {
      "cell_type": "code",
      "metadata": {
        "id": "UoNFpPmGfyUS"
      },
      "source": [
        "df.to_csv('df.csv')"
      ],
      "execution_count": 73,
      "outputs": []
    },
    {
      "cell_type": "code",
      "metadata": {
        "id": "FK9U0akjgAaT"
      },
      "source": [
        "df= pd.read_csv('/content/df.csv')"
      ],
      "execution_count": 74,
      "outputs": []
    },
    {
      "cell_type": "code",
      "metadata": {
        "colab": {
          "base_uri": "https://localhost:8080/",
          "height": 203
        },
        "id": "dG5mTk63jywo",
        "outputId": "36eda38b-2901-42aa-c529-34aab2ec9cf1"
      },
      "source": [
        "df.head()"
      ],
      "execution_count": 75,
      "outputs": [
        {
          "output_type": "execute_result",
          "data": {
            "text/html": [
              "<div>\n",
              "<style scoped>\n",
              "    .dataframe tbody tr th:only-of-type {\n",
              "        vertical-align: middle;\n",
              "    }\n",
              "\n",
              "    .dataframe tbody tr th {\n",
              "        vertical-align: top;\n",
              "    }\n",
              "\n",
              "    .dataframe thead th {\n",
              "        text-align: right;\n",
              "    }\n",
              "</style>\n",
              "<table border=\"1\" class=\"dataframe\">\n",
              "  <thead>\n",
              "    <tr style=\"text-align: right;\">\n",
              "      <th></th>\n",
              "      <th>Unnamed: 0</th>\n",
              "      <th>İsim</th>\n",
              "      <th>Meslek</th>\n",
              "      <th>Tarih</th>\n",
              "      <th>Yaş</th>\n",
              "      <th>Çocuk_Sayısı</th>\n",
              "      <th>Puan</th>\n",
              "    </tr>\n",
              "  </thead>\n",
              "  <tbody>\n",
              "    <tr>\n",
              "      <th>0</th>\n",
              "      <td>0</td>\n",
              "      <td>Ada</td>\n",
              "      <td>İşçi</td>\n",
              "      <td>11.11.2010</td>\n",
              "      <td>21</td>\n",
              "      <td>3</td>\n",
              "      <td>89</td>\n",
              "    </tr>\n",
              "    <tr>\n",
              "      <th>1</th>\n",
              "      <td>1</td>\n",
              "      <td>Cem</td>\n",
              "      <td>İşçi</td>\n",
              "      <td>11.11.2010</td>\n",
              "      <td>24</td>\n",
              "      <td>5</td>\n",
              "      <td>87</td>\n",
              "    </tr>\n",
              "    <tr>\n",
              "      <th>2</th>\n",
              "      <td>2</td>\n",
              "      <td>Sibel</td>\n",
              "      <td>Memur</td>\n",
              "      <td>11.11.2010</td>\n",
              "      <td>25</td>\n",
              "      <td>4</td>\n",
              "      <td>77</td>\n",
              "    </tr>\n",
              "    <tr>\n",
              "      <th>3</th>\n",
              "      <td>3</td>\n",
              "      <td>Ahmet</td>\n",
              "      <td>Serbest</td>\n",
              "      <td>18.11.2011</td>\n",
              "      <td>44</td>\n",
              "      <td>3</td>\n",
              "      <td>55</td>\n",
              "    </tr>\n",
              "    <tr>\n",
              "      <th>4</th>\n",
              "      <td>4</td>\n",
              "      <td>Mehmet</td>\n",
              "      <td>Serbest</td>\n",
              "      <td>18.11.2011</td>\n",
              "      <td>31</td>\n",
              "      <td>2</td>\n",
              "      <td>70</td>\n",
              "    </tr>\n",
              "  </tbody>\n",
              "</table>\n",
              "</div>"
            ],
            "text/plain": [
              "   Unnamed: 0    İsim   Meslek       Tarih  Yaş  Çocuk_Sayısı  Puan\n",
              "0           0     Ada     İşçi  11.11.2010   21             3    89\n",
              "1           1     Cem     İşçi  11.11.2010   24             5    87\n",
              "2           2   Sibel    Memur  11.11.2010   25             4    77\n",
              "3           3   Ahmet  Serbest  18.11.2011   44             3    55\n",
              "4           4  Mehmet  Serbest  18.11.2011   31             2    70"
            ]
          },
          "metadata": {
            "tags": []
          },
          "execution_count": 75
        }
      ]
    },
    {
      "cell_type": "code",
      "metadata": {
        "id": "faH-6GNjghPu"
      },
      "source": [
        "df= pd.read_csv('http://suayipc.net/Veri/ikveri/df.csv')"
      ],
      "execution_count": 9,
      "outputs": []
    },
    {
      "cell_type": "code",
      "metadata": {
        "id": "5Uu6Rm1_3d12",
        "colab": {
          "base_uri": "https://localhost:8080/",
          "height": 203
        },
        "outputId": "eee901b1-fc7a-4d3d-9163-4adc7ec7da6e"
      },
      "source": [
        "#İlk 5 satırı görüntüleme\n",
        "df.head()"
      ],
      "execution_count": 10,
      "outputs": [
        {
          "output_type": "execute_result",
          "data": {
            "text/html": [
              "<div>\n",
              "<style scoped>\n",
              "    .dataframe tbody tr th:only-of-type {\n",
              "        vertical-align: middle;\n",
              "    }\n",
              "\n",
              "    .dataframe tbody tr th {\n",
              "        vertical-align: top;\n",
              "    }\n",
              "\n",
              "    .dataframe thead th {\n",
              "        text-align: right;\n",
              "    }\n",
              "</style>\n",
              "<table border=\"1\" class=\"dataframe\">\n",
              "  <thead>\n",
              "    <tr style=\"text-align: right;\">\n",
              "      <th></th>\n",
              "      <th>Unnamed: 0</th>\n",
              "      <th>İsim</th>\n",
              "      <th>Meslek</th>\n",
              "      <th>Tarih</th>\n",
              "      <th>Yaş</th>\n",
              "      <th>ÇocukSayısı</th>\n",
              "      <th>Puan</th>\n",
              "    </tr>\n",
              "  </thead>\n",
              "  <tbody>\n",
              "    <tr>\n",
              "      <th>0</th>\n",
              "      <td>0</td>\n",
              "      <td>Ada</td>\n",
              "      <td>işçi</td>\n",
              "      <td>11.11.2010</td>\n",
              "      <td>21</td>\n",
              "      <td>NaN</td>\n",
              "      <td>89</td>\n",
              "    </tr>\n",
              "    <tr>\n",
              "      <th>1</th>\n",
              "      <td>1</td>\n",
              "      <td>Cem</td>\n",
              "      <td>işçi</td>\n",
              "      <td>11.11.2010</td>\n",
              "      <td>24</td>\n",
              "      <td>NaN</td>\n",
              "      <td>87</td>\n",
              "    </tr>\n",
              "    <tr>\n",
              "      <th>2</th>\n",
              "      <td>2</td>\n",
              "      <td>Sibel</td>\n",
              "      <td>memur</td>\n",
              "      <td>11.11.2010</td>\n",
              "      <td>25</td>\n",
              "      <td>NaN</td>\n",
              "      <td>77</td>\n",
              "    </tr>\n",
              "    <tr>\n",
              "      <th>3</th>\n",
              "      <td>3</td>\n",
              "      <td>Ahmet</td>\n",
              "      <td>serbest</td>\n",
              "      <td>18.11.2011</td>\n",
              "      <td>44</td>\n",
              "      <td>NaN</td>\n",
              "      <td>55</td>\n",
              "    </tr>\n",
              "    <tr>\n",
              "      <th>4</th>\n",
              "      <td>4</td>\n",
              "      <td>Mehmet</td>\n",
              "      <td>serbest</td>\n",
              "      <td>18.11.2011</td>\n",
              "      <td>31</td>\n",
              "      <td>NaN</td>\n",
              "      <td>70</td>\n",
              "    </tr>\n",
              "  </tbody>\n",
              "</table>\n",
              "</div>"
            ],
            "text/plain": [
              "   Unnamed: 0    İsim   Meslek       Tarih  Yaş  ÇocukSayısı  Puan\n",
              "0           0     Ada     işçi  11.11.2010   21          NaN    89\n",
              "1           1     Cem     işçi  11.11.2010   24          NaN    87\n",
              "2           2   Sibel    memur  11.11.2010   25          NaN    77\n",
              "3           3   Ahmet  serbest  18.11.2011   44          NaN    55\n",
              "4           4  Mehmet  serbest  18.11.2011   31          NaN    70"
            ]
          },
          "metadata": {
            "tags": []
          },
          "execution_count": 10
        }
      ]
    },
    {
      "cell_type": "code",
      "metadata": {
        "id": "CRHWhamuLLeU"
      },
      "source": [
        "df= df.drop(columns=['Unnamed: 0'])\n"
      ],
      "execution_count": 11,
      "outputs": []
    },
    {
      "cell_type": "code",
      "metadata": {
        "id": "-rCcMWPOXjWP"
      },
      "source": [
        "df2=pd.read_csv('https://raw.githubusercontent.com/lmr97/mpg.csv/master/auto-mpg.csv')"
      ],
      "execution_count": 6,
      "outputs": []
    },
    {
      "cell_type": "code",
      "metadata": {
        "colab": {
          "base_uri": "https://localhost:8080/",
          "height": 203
        },
        "id": "NDV-4YRWXpME",
        "outputId": "cbe39e14-ee7c-4083-fbf5-e6af3a69b853"
      },
      "source": [
        "df2.head()"
      ],
      "execution_count": 7,
      "outputs": [
        {
          "output_type": "execute_result",
          "data": {
            "text/html": [
              "<div>\n",
              "<style scoped>\n",
              "    .dataframe tbody tr th:only-of-type {\n",
              "        vertical-align: middle;\n",
              "    }\n",
              "\n",
              "    .dataframe tbody tr th {\n",
              "        vertical-align: top;\n",
              "    }\n",
              "\n",
              "    .dataframe thead th {\n",
              "        text-align: right;\n",
              "    }\n",
              "</style>\n",
              "<table border=\"1\" class=\"dataframe\">\n",
              "  <thead>\n",
              "    <tr style=\"text-align: right;\">\n",
              "      <th></th>\n",
              "      <th>18.0</th>\n",
              "      <th>8</th>\n",
              "      <th>307.0</th>\n",
              "      <th>130.0</th>\n",
              "      <th>3504</th>\n",
              "      <th>12.0</th>\n",
              "      <th>70</th>\n",
              "      <th>1</th>\n",
              "      <th>chevrolet,chevelle,malibu</th>\n",
              "    </tr>\n",
              "  </thead>\n",
              "  <tbody>\n",
              "    <tr>\n",
              "      <th>0</th>\n",
              "      <td>15.0</td>\n",
              "      <td>8</td>\n",
              "      <td>350.0</td>\n",
              "      <td>165.0</td>\n",
              "      <td>3693</td>\n",
              "      <td>11.5</td>\n",
              "      <td>70</td>\n",
              "      <td>1</td>\n",
              "      <td>buick,skylark,320</td>\n",
              "    </tr>\n",
              "    <tr>\n",
              "      <th>1</th>\n",
              "      <td>18.0</td>\n",
              "      <td>8</td>\n",
              "      <td>318.0</td>\n",
              "      <td>150.0</td>\n",
              "      <td>3436</td>\n",
              "      <td>11.0</td>\n",
              "      <td>70</td>\n",
              "      <td>1</td>\n",
              "      <td>plymouth,satellite</td>\n",
              "    </tr>\n",
              "    <tr>\n",
              "      <th>2</th>\n",
              "      <td>16.0</td>\n",
              "      <td>8</td>\n",
              "      <td>304.0</td>\n",
              "      <td>150.0</td>\n",
              "      <td>3433</td>\n",
              "      <td>12.0</td>\n",
              "      <td>70</td>\n",
              "      <td>1</td>\n",
              "      <td>amc,rebel,sst</td>\n",
              "    </tr>\n",
              "    <tr>\n",
              "      <th>3</th>\n",
              "      <td>17.0</td>\n",
              "      <td>8</td>\n",
              "      <td>302.0</td>\n",
              "      <td>140.0</td>\n",
              "      <td>3449</td>\n",
              "      <td>10.5</td>\n",
              "      <td>70</td>\n",
              "      <td>1</td>\n",
              "      <td>ford,torino</td>\n",
              "    </tr>\n",
              "    <tr>\n",
              "      <th>4</th>\n",
              "      <td>15.0</td>\n",
              "      <td>8</td>\n",
              "      <td>429.0</td>\n",
              "      <td>198.0</td>\n",
              "      <td>4341</td>\n",
              "      <td>10.0</td>\n",
              "      <td>70</td>\n",
              "      <td>1</td>\n",
              "      <td>ford,galaxie,500</td>\n",
              "    </tr>\n",
              "  </tbody>\n",
              "</table>\n",
              "</div>"
            ],
            "text/plain": [
              "   18.0  8  307.0  130.0  3504  12.0  70  1 chevrolet,chevelle,malibu\n",
              "0  15.0  8  350.0  165.0  3693  11.5  70  1         buick,skylark,320\n",
              "1  18.0  8  318.0  150.0  3436  11.0  70  1        plymouth,satellite\n",
              "2  16.0  8  304.0  150.0  3433  12.0  70  1             amc,rebel,sst\n",
              "3  17.0  8  302.0  140.0  3449  10.5  70  1               ford,torino\n",
              "4  15.0  8  429.0  198.0  4341  10.0  70  1          ford,galaxie,500"
            ]
          },
          "metadata": {
            "tags": []
          },
          "execution_count": 7
        }
      ]
    },
    {
      "cell_type": "code",
      "metadata": {
        "id": "br69QpX-3qG-",
        "colab": {
          "base_uri": "https://localhost:8080/",
          "height": 203
        },
        "outputId": "d5ea9f99-58e9-4fe0-ca59-5cb61bcc1a94"
      },
      "source": [
        "#Son 5 satırı görüntüleme\n",
        "df.tail()"
      ],
      "execution_count": 12,
      "outputs": [
        {
          "output_type": "execute_result",
          "data": {
            "text/html": [
              "<div>\n",
              "<style scoped>\n",
              "    .dataframe tbody tr th:only-of-type {\n",
              "        vertical-align: middle;\n",
              "    }\n",
              "\n",
              "    .dataframe tbody tr th {\n",
              "        vertical-align: top;\n",
              "    }\n",
              "\n",
              "    .dataframe thead th {\n",
              "        text-align: right;\n",
              "    }\n",
              "</style>\n",
              "<table border=\"1\" class=\"dataframe\">\n",
              "  <thead>\n",
              "    <tr style=\"text-align: right;\">\n",
              "      <th></th>\n",
              "      <th>İsim</th>\n",
              "      <th>Meslek</th>\n",
              "      <th>Tarih</th>\n",
              "      <th>Yaş</th>\n",
              "      <th>ÇocukSayısı</th>\n",
              "      <th>Puan</th>\n",
              "    </tr>\n",
              "  </thead>\n",
              "  <tbody>\n",
              "    <tr>\n",
              "      <th>7</th>\n",
              "      <td>Ayşe</td>\n",
              "      <td>sigortacı</td>\n",
              "      <td>NaN</td>\n",
              "      <td>33</td>\n",
              "      <td>0.0</td>\n",
              "      <td>79</td>\n",
              "    </tr>\n",
              "    <tr>\n",
              "      <th>8</th>\n",
              "      <td>Hüseyin</td>\n",
              "      <td>işsiz</td>\n",
              "      <td>11.11.2010</td>\n",
              "      <td>42</td>\n",
              "      <td>NaN</td>\n",
              "      <td>54</td>\n",
              "    </tr>\n",
              "    <tr>\n",
              "      <th>9</th>\n",
              "      <td>Necmi</td>\n",
              "      <td>NaN</td>\n",
              "      <td>NaN</td>\n",
              "      <td>29</td>\n",
              "      <td>NaN</td>\n",
              "      <td>92</td>\n",
              "    </tr>\n",
              "    <tr>\n",
              "      <th>10</th>\n",
              "      <td>Nalan</td>\n",
              "      <td>NaN</td>\n",
              "      <td>18.11.2011</td>\n",
              "      <td>41</td>\n",
              "      <td>NaN</td>\n",
              "      <td>61</td>\n",
              "    </tr>\n",
              "    <tr>\n",
              "      <th>11</th>\n",
              "      <td>Namık</td>\n",
              "      <td>memur</td>\n",
              "      <td>18.11.2011</td>\n",
              "      <td>43</td>\n",
              "      <td>NaN</td>\n",
              "      <td>69</td>\n",
              "    </tr>\n",
              "  </tbody>\n",
              "</table>\n",
              "</div>"
            ],
            "text/plain": [
              "       İsim     Meslek       Tarih  Yaş  ÇocukSayısı  Puan\n",
              "7      Ayşe  sigortacı         NaN   33          0.0    79\n",
              "8   Hüseyin      işsiz  11.11.2010   42          NaN    54\n",
              "9     Necmi        NaN         NaN   29          NaN    92\n",
              "10    Nalan        NaN  18.11.2011   41          NaN    61\n",
              "11    Namık      memur  18.11.2011   43          NaN    69"
            ]
          },
          "metadata": {
            "tags": []
          },
          "execution_count": 12
        }
      ]
    },
    {
      "cell_type": "code",
      "metadata": {
        "id": "j5697RvJ3tn-",
        "colab": {
          "base_uri": "https://localhost:8080/",
          "height": 203
        },
        "outputId": "14c6b71f-4473-4aa0-ef00-3a23d33376ea"
      },
      "source": [
        "#Rasgele 5 satırı görüntüleme\n",
        "df.sample(5)"
      ],
      "execution_count": null,
      "outputs": [
        {
          "output_type": "execute_result",
          "data": {
            "text/html": [
              "<div>\n",
              "<style scoped>\n",
              "    .dataframe tbody tr th:only-of-type {\n",
              "        vertical-align: middle;\n",
              "    }\n",
              "\n",
              "    .dataframe tbody tr th {\n",
              "        vertical-align: top;\n",
              "    }\n",
              "\n",
              "    .dataframe thead th {\n",
              "        text-align: right;\n",
              "    }\n",
              "</style>\n",
              "<table border=\"1\" class=\"dataframe\">\n",
              "  <thead>\n",
              "    <tr style=\"text-align: right;\">\n",
              "      <th></th>\n",
              "      <th>İsim</th>\n",
              "      <th>Meslek</th>\n",
              "      <th>Tarih</th>\n",
              "      <th>Yaş</th>\n",
              "      <th>Çocuk_Sayısı</th>\n",
              "      <th>Puan</th>\n",
              "    </tr>\n",
              "  </thead>\n",
              "  <tbody>\n",
              "    <tr>\n",
              "      <th>0</th>\n",
              "      <td>Ada</td>\n",
              "      <td>İşçi</td>\n",
              "      <td>11.11.2010</td>\n",
              "      <td>21</td>\n",
              "      <td>3</td>\n",
              "      <td>89</td>\n",
              "    </tr>\n",
              "    <tr>\n",
              "      <th>10</th>\n",
              "      <td>Nalan</td>\n",
              "      <td>İşçi</td>\n",
              "      <td>19.11.2011</td>\n",
              "      <td>41</td>\n",
              "      <td>3</td>\n",
              "      <td>61</td>\n",
              "    </tr>\n",
              "    <tr>\n",
              "      <th>1</th>\n",
              "      <td>Cem</td>\n",
              "      <td>İşçi</td>\n",
              "      <td>11.11.2010</td>\n",
              "      <td>24</td>\n",
              "      <td>5</td>\n",
              "      <td>87</td>\n",
              "    </tr>\n",
              "    <tr>\n",
              "      <th>3</th>\n",
              "      <td>Ahmet</td>\n",
              "      <td>Serbest</td>\n",
              "      <td>18.11.2011</td>\n",
              "      <td>44</td>\n",
              "      <td>3</td>\n",
              "      <td>55</td>\n",
              "    </tr>\n",
              "    <tr>\n",
              "      <th>9</th>\n",
              "      <td>Necmi</td>\n",
              "      <td>Memur</td>\n",
              "      <td>16.11.2011</td>\n",
              "      <td>29</td>\n",
              "      <td>2</td>\n",
              "      <td>92</td>\n",
              "    </tr>\n",
              "  </tbody>\n",
              "</table>\n",
              "</div>"
            ],
            "text/plain": [
              "     İsim   Meslek       Tarih  Yaş  Çocuk_Sayısı  Puan\n",
              "0     Ada     İşçi  11.11.2010   21             3    89\n",
              "10  Nalan     İşçi  19.11.2011   41             3    61\n",
              "1     Cem     İşçi  11.11.2010   24             5    87\n",
              "3   Ahmet  Serbest  18.11.2011   44             3    55\n",
              "9   Necmi    Memur  16.11.2011   29             2    92"
            ]
          },
          "metadata": {
            "tags": []
          },
          "execution_count": 102
        }
      ]
    },
    {
      "cell_type": "code",
      "metadata": {
        "id": "5V1IFndu30Q1",
        "colab": {
          "base_uri": "https://localhost:8080/"
        },
        "outputId": "aff31bf1-5ee2-4388-9e24-38341951e96b"
      },
      "source": [
        "#Satır ve sütun (öznitelik) sayısını görüntüleme\n",
        "df.shape"
      ],
      "execution_count": 13,
      "outputs": [
        {
          "output_type": "execute_result",
          "data": {
            "text/plain": [
              "(12, 6)"
            ]
          },
          "metadata": {
            "tags": []
          },
          "execution_count": 13
        }
      ]
    },
    {
      "cell_type": "code",
      "metadata": {
        "id": "MGoVfhKa37CQ",
        "colab": {
          "base_uri": "https://localhost:8080/"
        },
        "outputId": "31b1625a-4d09-4962-e20d-7291ded10463"
      },
      "source": [
        "#Özniteliklerin veri türleri, içerdikleri kayıt sayıları ve bellek kullanımı hakkında bilgi edinme\n",
        "df.info()"
      ],
      "execution_count": 14,
      "outputs": [
        {
          "output_type": "stream",
          "text": [
            "<class 'pandas.core.frame.DataFrame'>\n",
            "RangeIndex: 12 entries, 0 to 11\n",
            "Data columns (total 6 columns):\n",
            " #   Column       Non-Null Count  Dtype  \n",
            "---  ------       --------------  -----  \n",
            " 0   İsim         12 non-null     object \n",
            " 1   Meslek       8 non-null      object \n",
            " 2   Tarih        8 non-null      object \n",
            " 3   Yaş          12 non-null     int64  \n",
            " 4   ÇocukSayısı  3 non-null      float64\n",
            " 5   Puan         12 non-null     int64  \n",
            "dtypes: float64(1), int64(2), object(3)\n",
            "memory usage: 704.0+ bytes\n"
          ],
          "name": "stdout"
        }
      ]
    },
    {
      "cell_type": "code",
      "metadata": {
        "colab": {
          "base_uri": "https://localhost:8080/",
          "height": 295
        },
        "id": "sN5wJeHFZDpG",
        "outputId": "a44f2052-c562-4986-9077-80bb7ed4224e"
      },
      "source": [
        "df.describe()"
      ],
      "execution_count": 15,
      "outputs": [
        {
          "output_type": "execute_result",
          "data": {
            "text/html": [
              "<div>\n",
              "<style scoped>\n",
              "    .dataframe tbody tr th:only-of-type {\n",
              "        vertical-align: middle;\n",
              "    }\n",
              "\n",
              "    .dataframe tbody tr th {\n",
              "        vertical-align: top;\n",
              "    }\n",
              "\n",
              "    .dataframe thead th {\n",
              "        text-align: right;\n",
              "    }\n",
              "</style>\n",
              "<table border=\"1\" class=\"dataframe\">\n",
              "  <thead>\n",
              "    <tr style=\"text-align: right;\">\n",
              "      <th></th>\n",
              "      <th>Yaş</th>\n",
              "      <th>ÇocukSayısı</th>\n",
              "      <th>Puan</th>\n",
              "    </tr>\n",
              "  </thead>\n",
              "  <tbody>\n",
              "    <tr>\n",
              "      <th>count</th>\n",
              "      <td>12.000000</td>\n",
              "      <td>3.0</td>\n",
              "      <td>12.000000</td>\n",
              "    </tr>\n",
              "    <tr>\n",
              "      <th>mean</th>\n",
              "      <td>32.916667</td>\n",
              "      <td>1.0</td>\n",
              "      <td>73.750000</td>\n",
              "    </tr>\n",
              "    <tr>\n",
              "      <th>std</th>\n",
              "      <td>8.061788</td>\n",
              "      <td>1.0</td>\n",
              "      <td>12.606816</td>\n",
              "    </tr>\n",
              "    <tr>\n",
              "      <th>min</th>\n",
              "      <td>21.000000</td>\n",
              "      <td>0.0</td>\n",
              "      <td>54.000000</td>\n",
              "    </tr>\n",
              "    <tr>\n",
              "      <th>25%</th>\n",
              "      <td>26.500000</td>\n",
              "      <td>0.5</td>\n",
              "      <td>67.000000</td>\n",
              "    </tr>\n",
              "    <tr>\n",
              "      <th>50%</th>\n",
              "      <td>32.000000</td>\n",
              "      <td>1.0</td>\n",
              "      <td>75.000000</td>\n",
              "    </tr>\n",
              "    <tr>\n",
              "      <th>75%</th>\n",
              "      <td>41.250000</td>\n",
              "      <td>1.5</td>\n",
              "      <td>81.000000</td>\n",
              "    </tr>\n",
              "    <tr>\n",
              "      <th>max</th>\n",
              "      <td>44.000000</td>\n",
              "      <td>2.0</td>\n",
              "      <td>92.000000</td>\n",
              "    </tr>\n",
              "  </tbody>\n",
              "</table>\n",
              "</div>"
            ],
            "text/plain": [
              "             Yaş  ÇocukSayısı       Puan\n",
              "count  12.000000          3.0  12.000000\n",
              "mean   32.916667          1.0  73.750000\n",
              "std     8.061788          1.0  12.606816\n",
              "min    21.000000          0.0  54.000000\n",
              "25%    26.500000          0.5  67.000000\n",
              "50%    32.000000          1.0  75.000000\n",
              "75%    41.250000          1.5  81.000000\n",
              "max    44.000000          2.0  92.000000"
            ]
          },
          "metadata": {
            "tags": []
          },
          "execution_count": 15
        }
      ]
    },
    {
      "cell_type": "code",
      "metadata": {
        "id": "RdUZ_uE14EHP",
        "colab": {
          "base_uri": "https://localhost:8080/"
        },
        "outputId": "7d30541b-4e90-4492-ada1-c0cb7c942c20"
      },
      "source": [
        "#Öznitelik seçerek kayıtları gösterme (projection)\n",
        "df['ÇocukSayısı']"
      ],
      "execution_count": null,
      "outputs": [
        {
          "output_type": "execute_result",
          "data": {
            "text/plain": [
              "0     NaN\n",
              "1     NaN\n",
              "2     NaN\n",
              "3     NaN\n",
              "4     NaN\n",
              "5     1.0\n",
              "6     2.0\n",
              "7     0.0\n",
              "8     NaN\n",
              "9     NaN\n",
              "10    NaN\n",
              "11    NaN\n",
              "Name: ÇocukSayısı, dtype: float64"
            ]
          },
          "metadata": {
            "tags": []
          },
          "execution_count": 24
        }
      ]
    },
    {
      "cell_type": "code",
      "metadata": {
        "id": "PZCDgOps4OwU",
        "colab": {
          "base_uri": "https://localhost:8080/"
        },
        "outputId": "af2f01e4-edd5-46dd-e3b5-711b49226223"
      },
      "source": [
        "#Öznitelik seçerek ilk 5 kaydı gösterme (top)\n",
        "df['ÇocukSayısı'][:7]"
      ],
      "execution_count": 18,
      "outputs": [
        {
          "output_type": "execute_result",
          "data": {
            "text/plain": [
              "0    NaN\n",
              "1    NaN\n",
              "2    NaN\n",
              "3    NaN\n",
              "4    NaN\n",
              "5    1.0\n",
              "6    2.0\n",
              "Name: ÇocukSayısı, dtype: float64"
            ]
          },
          "metadata": {
            "tags": []
          },
          "execution_count": 18
        }
      ]
    },
    {
      "cell_type": "code",
      "metadata": {
        "id": "czECCoJd4WQ0",
        "colab": {
          "base_uri": "https://localhost:8080/",
          "height": 419
        },
        "outputId": "e23f7858-073d-4435-f5b1-6feb9f5cee44"
      },
      "source": [
        "#Birden fazla öznitelik seçme\n",
        "df[['Yaş', 'İsim']]"
      ],
      "execution_count": 19,
      "outputs": [
        {
          "output_type": "execute_result",
          "data": {
            "text/html": [
              "<div>\n",
              "<style scoped>\n",
              "    .dataframe tbody tr th:only-of-type {\n",
              "        vertical-align: middle;\n",
              "    }\n",
              "\n",
              "    .dataframe tbody tr th {\n",
              "        vertical-align: top;\n",
              "    }\n",
              "\n",
              "    .dataframe thead th {\n",
              "        text-align: right;\n",
              "    }\n",
              "</style>\n",
              "<table border=\"1\" class=\"dataframe\">\n",
              "  <thead>\n",
              "    <tr style=\"text-align: right;\">\n",
              "      <th></th>\n",
              "      <th>Yaş</th>\n",
              "      <th>İsim</th>\n",
              "    </tr>\n",
              "  </thead>\n",
              "  <tbody>\n",
              "    <tr>\n",
              "      <th>0</th>\n",
              "      <td>21</td>\n",
              "      <td>Ada</td>\n",
              "    </tr>\n",
              "    <tr>\n",
              "      <th>1</th>\n",
              "      <td>24</td>\n",
              "      <td>Cem</td>\n",
              "    </tr>\n",
              "    <tr>\n",
              "      <th>2</th>\n",
              "      <td>25</td>\n",
              "      <td>Sibel</td>\n",
              "    </tr>\n",
              "    <tr>\n",
              "      <th>3</th>\n",
              "      <td>44</td>\n",
              "      <td>Ahmet</td>\n",
              "    </tr>\n",
              "    <tr>\n",
              "      <th>4</th>\n",
              "      <td>31</td>\n",
              "      <td>Mehmet</td>\n",
              "    </tr>\n",
              "    <tr>\n",
              "      <th>5</th>\n",
              "      <td>27</td>\n",
              "      <td>Ali</td>\n",
              "    </tr>\n",
              "    <tr>\n",
              "      <th>6</th>\n",
              "      <td>35</td>\n",
              "      <td>Veli</td>\n",
              "    </tr>\n",
              "    <tr>\n",
              "      <th>7</th>\n",
              "      <td>33</td>\n",
              "      <td>Ayşe</td>\n",
              "    </tr>\n",
              "    <tr>\n",
              "      <th>8</th>\n",
              "      <td>42</td>\n",
              "      <td>Hüseyin</td>\n",
              "    </tr>\n",
              "    <tr>\n",
              "      <th>9</th>\n",
              "      <td>29</td>\n",
              "      <td>Necmi</td>\n",
              "    </tr>\n",
              "    <tr>\n",
              "      <th>10</th>\n",
              "      <td>41</td>\n",
              "      <td>Nalan</td>\n",
              "    </tr>\n",
              "    <tr>\n",
              "      <th>11</th>\n",
              "      <td>43</td>\n",
              "      <td>Namık</td>\n",
              "    </tr>\n",
              "  </tbody>\n",
              "</table>\n",
              "</div>"
            ],
            "text/plain": [
              "    Yaş     İsim\n",
              "0    21      Ada\n",
              "1    24      Cem\n",
              "2    25    Sibel\n",
              "3    44    Ahmet\n",
              "4    31   Mehmet\n",
              "5    27      Ali\n",
              "6    35     Veli\n",
              "7    33     Ayşe\n",
              "8    42  Hüseyin\n",
              "9    29    Necmi\n",
              "10   41    Nalan\n",
              "11   43    Namık"
            ]
          },
          "metadata": {
            "tags": []
          },
          "execution_count": 19
        }
      ]
    },
    {
      "cell_type": "code",
      "metadata": {
        "id": "s-ZuM5BV4cj7",
        "colab": {
          "base_uri": "https://localhost:8080/",
          "height": 141
        },
        "outputId": "ba29ce8b-0a37-43ef-e12f-5d5c87e9b000"
      },
      "source": [
        "\"\"\"Kayıtlar üzerinde mantıksal koşul uygulayarak (and, or) filtreleme\n",
        "Yaşı 30'dan büyük ve (and) Puanı 50'den büyük kayıtları getir.\"\"\"\n",
        "df[(df['Yaş']>20) & (df['Puan']>80)]"
      ],
      "execution_count": 21,
      "outputs": [
        {
          "output_type": "execute_result",
          "data": {
            "text/html": [
              "<div>\n",
              "<style scoped>\n",
              "    .dataframe tbody tr th:only-of-type {\n",
              "        vertical-align: middle;\n",
              "    }\n",
              "\n",
              "    .dataframe tbody tr th {\n",
              "        vertical-align: top;\n",
              "    }\n",
              "\n",
              "    .dataframe thead th {\n",
              "        text-align: right;\n",
              "    }\n",
              "</style>\n",
              "<table border=\"1\" class=\"dataframe\">\n",
              "  <thead>\n",
              "    <tr style=\"text-align: right;\">\n",
              "      <th></th>\n",
              "      <th>İsim</th>\n",
              "      <th>Meslek</th>\n",
              "      <th>Tarih</th>\n",
              "      <th>Yaş</th>\n",
              "      <th>ÇocukSayısı</th>\n",
              "      <th>Puan</th>\n",
              "    </tr>\n",
              "  </thead>\n",
              "  <tbody>\n",
              "    <tr>\n",
              "      <th>0</th>\n",
              "      <td>Ada</td>\n",
              "      <td>işçi</td>\n",
              "      <td>11.11.2010</td>\n",
              "      <td>21</td>\n",
              "      <td>NaN</td>\n",
              "      <td>89</td>\n",
              "    </tr>\n",
              "    <tr>\n",
              "      <th>1</th>\n",
              "      <td>Cem</td>\n",
              "      <td>işçi</td>\n",
              "      <td>11.11.2010</td>\n",
              "      <td>24</td>\n",
              "      <td>NaN</td>\n",
              "      <td>87</td>\n",
              "    </tr>\n",
              "    <tr>\n",
              "      <th>9</th>\n",
              "      <td>Necmi</td>\n",
              "      <td>NaN</td>\n",
              "      <td>NaN</td>\n",
              "      <td>29</td>\n",
              "      <td>NaN</td>\n",
              "      <td>92</td>\n",
              "    </tr>\n",
              "  </tbody>\n",
              "</table>\n",
              "</div>"
            ],
            "text/plain": [
              "    İsim Meslek       Tarih  Yaş  ÇocukSayısı  Puan\n",
              "0    Ada   işçi  11.11.2010   21          NaN    89\n",
              "1    Cem   işçi  11.11.2010   24          NaN    87\n",
              "9  Necmi    NaN         NaN   29          NaN    92"
            ]
          },
          "metadata": {
            "tags": []
          },
          "execution_count": 21
        }
      ]
    },
    {
      "cell_type": "code",
      "metadata": {
        "id": "s3zrB0NV4sGz",
        "colab": {
          "base_uri": "https://localhost:8080/",
          "height": 141
        },
        "outputId": "8b3938fa-10e3-4092-9315-e59dd877bf88"
      },
      "source": [
        "#Mesleği ‘işçi’ olan veya (or) Puanı 90'dan büyük olan kayıtları getir.\n",
        "df[(df['Meslek']=='Memur') | (df['Puan']>80)]"
      ],
      "execution_count": 23,
      "outputs": [
        {
          "output_type": "execute_result",
          "data": {
            "text/html": [
              "<div>\n",
              "<style scoped>\n",
              "    .dataframe tbody tr th:only-of-type {\n",
              "        vertical-align: middle;\n",
              "    }\n",
              "\n",
              "    .dataframe tbody tr th {\n",
              "        vertical-align: top;\n",
              "    }\n",
              "\n",
              "    .dataframe thead th {\n",
              "        text-align: right;\n",
              "    }\n",
              "</style>\n",
              "<table border=\"1\" class=\"dataframe\">\n",
              "  <thead>\n",
              "    <tr style=\"text-align: right;\">\n",
              "      <th></th>\n",
              "      <th>İsim</th>\n",
              "      <th>Meslek</th>\n",
              "      <th>Tarih</th>\n",
              "      <th>Yaş</th>\n",
              "      <th>ÇocukSayısı</th>\n",
              "      <th>Puan</th>\n",
              "    </tr>\n",
              "  </thead>\n",
              "  <tbody>\n",
              "    <tr>\n",
              "      <th>0</th>\n",
              "      <td>Ada</td>\n",
              "      <td>işçi</td>\n",
              "      <td>11.11.2010</td>\n",
              "      <td>21</td>\n",
              "      <td>NaN</td>\n",
              "      <td>89</td>\n",
              "    </tr>\n",
              "    <tr>\n",
              "      <th>1</th>\n",
              "      <td>Cem</td>\n",
              "      <td>işçi</td>\n",
              "      <td>11.11.2010</td>\n",
              "      <td>24</td>\n",
              "      <td>NaN</td>\n",
              "      <td>87</td>\n",
              "    </tr>\n",
              "    <tr>\n",
              "      <th>9</th>\n",
              "      <td>Necmi</td>\n",
              "      <td>NaN</td>\n",
              "      <td>NaN</td>\n",
              "      <td>29</td>\n",
              "      <td>NaN</td>\n",
              "      <td>92</td>\n",
              "    </tr>\n",
              "  </tbody>\n",
              "</table>\n",
              "</div>"
            ],
            "text/plain": [
              "    İsim Meslek       Tarih  Yaş  ÇocukSayısı  Puan\n",
              "0    Ada   işçi  11.11.2010   21          NaN    89\n",
              "1    Cem   işçi  11.11.2010   24          NaN    87\n",
              "9  Necmi    NaN         NaN   29          NaN    92"
            ]
          },
          "metadata": {
            "tags": []
          },
          "execution_count": 23
        }
      ]
    },
    {
      "cell_type": "code",
      "metadata": {
        "id": "KKPzDTFT4yEb",
        "colab": {
          "base_uri": "https://localhost:8080/",
          "height": 203
        },
        "outputId": "7271c3ac-cacc-4192-bd73-efb083c180bc"
      },
      "source": [
        "#Diğer bir filtreleme yöntemi dataframe üzerindeki query() fonksiyonu kullanılarak gerçekleştirilebilir.\n",
        "#query() fonksiyonu ile filtreleme\n",
        "df_filtered = df.query('Yaş>30 & Puan>60')\n",
        "df_filtered"
      ],
      "execution_count": 24,
      "outputs": [
        {
          "output_type": "execute_result",
          "data": {
            "text/html": [
              "<div>\n",
              "<style scoped>\n",
              "    .dataframe tbody tr th:only-of-type {\n",
              "        vertical-align: middle;\n",
              "    }\n",
              "\n",
              "    .dataframe tbody tr th {\n",
              "        vertical-align: top;\n",
              "    }\n",
              "\n",
              "    .dataframe thead th {\n",
              "        text-align: right;\n",
              "    }\n",
              "</style>\n",
              "<table border=\"1\" class=\"dataframe\">\n",
              "  <thead>\n",
              "    <tr style=\"text-align: right;\">\n",
              "      <th></th>\n",
              "      <th>İsim</th>\n",
              "      <th>Meslek</th>\n",
              "      <th>Tarih</th>\n",
              "      <th>Yaş</th>\n",
              "      <th>ÇocukSayısı</th>\n",
              "      <th>Puan</th>\n",
              "    </tr>\n",
              "  </thead>\n",
              "  <tbody>\n",
              "    <tr>\n",
              "      <th>4</th>\n",
              "      <td>Mehmet</td>\n",
              "      <td>serbest</td>\n",
              "      <td>18.11.2011</td>\n",
              "      <td>31</td>\n",
              "      <td>NaN</td>\n",
              "      <td>70</td>\n",
              "    </tr>\n",
              "    <tr>\n",
              "      <th>6</th>\n",
              "      <td>Veli</td>\n",
              "      <td>NaN</td>\n",
              "      <td>NaN</td>\n",
              "      <td>35</td>\n",
              "      <td>2.0</td>\n",
              "      <td>73</td>\n",
              "    </tr>\n",
              "    <tr>\n",
              "      <th>7</th>\n",
              "      <td>Ayşe</td>\n",
              "      <td>sigortacı</td>\n",
              "      <td>NaN</td>\n",
              "      <td>33</td>\n",
              "      <td>0.0</td>\n",
              "      <td>79</td>\n",
              "    </tr>\n",
              "    <tr>\n",
              "      <th>10</th>\n",
              "      <td>Nalan</td>\n",
              "      <td>NaN</td>\n",
              "      <td>18.11.2011</td>\n",
              "      <td>41</td>\n",
              "      <td>NaN</td>\n",
              "      <td>61</td>\n",
              "    </tr>\n",
              "    <tr>\n",
              "      <th>11</th>\n",
              "      <td>Namık</td>\n",
              "      <td>memur</td>\n",
              "      <td>18.11.2011</td>\n",
              "      <td>43</td>\n",
              "      <td>NaN</td>\n",
              "      <td>69</td>\n",
              "    </tr>\n",
              "  </tbody>\n",
              "</table>\n",
              "</div>"
            ],
            "text/plain": [
              "      İsim     Meslek       Tarih  Yaş  ÇocukSayısı  Puan\n",
              "4   Mehmet    serbest  18.11.2011   31          NaN    70\n",
              "6     Veli        NaN         NaN   35          2.0    73\n",
              "7     Ayşe  sigortacı         NaN   33          0.0    79\n",
              "10   Nalan        NaN  18.11.2011   41          NaN    61\n",
              "11   Namık      memur  18.11.2011   43          NaN    69"
            ]
          },
          "metadata": {
            "tags": []
          },
          "execution_count": 24
        }
      ]
    },
    {
      "cell_type": "code",
      "metadata": {
        "id": "y4CsGuep5BjI",
        "colab": {
          "base_uri": "https://localhost:8080/",
          "height": 419
        },
        "outputId": "b7154c3e-2d4e-49f2-82f0-47b6c08c645d"
      },
      "source": [
        "#Sıralama (sorting)\n",
        "#Puan bilgisine göre azalan şekilde sırala (büyükten → küçüğe).\n",
        "df.sort_values('Puan', axis = 0, ascending = True)"
      ],
      "execution_count": 29,
      "outputs": [
        {
          "output_type": "execute_result",
          "data": {
            "text/html": [
              "<div>\n",
              "<style scoped>\n",
              "    .dataframe tbody tr th:only-of-type {\n",
              "        vertical-align: middle;\n",
              "    }\n",
              "\n",
              "    .dataframe tbody tr th {\n",
              "        vertical-align: top;\n",
              "    }\n",
              "\n",
              "    .dataframe thead th {\n",
              "        text-align: right;\n",
              "    }\n",
              "</style>\n",
              "<table border=\"1\" class=\"dataframe\">\n",
              "  <thead>\n",
              "    <tr style=\"text-align: right;\">\n",
              "      <th></th>\n",
              "      <th>İsim</th>\n",
              "      <th>Meslek</th>\n",
              "      <th>Tarih</th>\n",
              "      <th>Yaş</th>\n",
              "      <th>ÇocukSayısı</th>\n",
              "      <th>Puan</th>\n",
              "    </tr>\n",
              "  </thead>\n",
              "  <tbody>\n",
              "    <tr>\n",
              "      <th>8</th>\n",
              "      <td>Hüseyin</td>\n",
              "      <td>işsiz</td>\n",
              "      <td>11.11.2010</td>\n",
              "      <td>42</td>\n",
              "      <td>NaN</td>\n",
              "      <td>54</td>\n",
              "    </tr>\n",
              "    <tr>\n",
              "      <th>3</th>\n",
              "      <td>Ahmet</td>\n",
              "      <td>serbest</td>\n",
              "      <td>18.11.2011</td>\n",
              "      <td>44</td>\n",
              "      <td>NaN</td>\n",
              "      <td>55</td>\n",
              "    </tr>\n",
              "    <tr>\n",
              "      <th>10</th>\n",
              "      <td>Nalan</td>\n",
              "      <td>NaN</td>\n",
              "      <td>18.11.2011</td>\n",
              "      <td>41</td>\n",
              "      <td>NaN</td>\n",
              "      <td>61</td>\n",
              "    </tr>\n",
              "    <tr>\n",
              "      <th>11</th>\n",
              "      <td>Namık</td>\n",
              "      <td>memur</td>\n",
              "      <td>18.11.2011</td>\n",
              "      <td>43</td>\n",
              "      <td>NaN</td>\n",
              "      <td>69</td>\n",
              "    </tr>\n",
              "    <tr>\n",
              "      <th>4</th>\n",
              "      <td>Mehmet</td>\n",
              "      <td>serbest</td>\n",
              "      <td>18.11.2011</td>\n",
              "      <td>31</td>\n",
              "      <td>NaN</td>\n",
              "      <td>70</td>\n",
              "    </tr>\n",
              "    <tr>\n",
              "      <th>6</th>\n",
              "      <td>Veli</td>\n",
              "      <td>NaN</td>\n",
              "      <td>NaN</td>\n",
              "      <td>35</td>\n",
              "      <td>2.0</td>\n",
              "      <td>73</td>\n",
              "    </tr>\n",
              "    <tr>\n",
              "      <th>2</th>\n",
              "      <td>Sibel</td>\n",
              "      <td>memur</td>\n",
              "      <td>11.11.2010</td>\n",
              "      <td>25</td>\n",
              "      <td>NaN</td>\n",
              "      <td>77</td>\n",
              "    </tr>\n",
              "    <tr>\n",
              "      <th>5</th>\n",
              "      <td>Ali</td>\n",
              "      <td>NaN</td>\n",
              "      <td>NaN</td>\n",
              "      <td>27</td>\n",
              "      <td>1.0</td>\n",
              "      <td>79</td>\n",
              "    </tr>\n",
              "    <tr>\n",
              "      <th>7</th>\n",
              "      <td>Ayşe</td>\n",
              "      <td>sigortacı</td>\n",
              "      <td>NaN</td>\n",
              "      <td>33</td>\n",
              "      <td>0.0</td>\n",
              "      <td>79</td>\n",
              "    </tr>\n",
              "    <tr>\n",
              "      <th>1</th>\n",
              "      <td>Cem</td>\n",
              "      <td>işçi</td>\n",
              "      <td>11.11.2010</td>\n",
              "      <td>24</td>\n",
              "      <td>NaN</td>\n",
              "      <td>87</td>\n",
              "    </tr>\n",
              "    <tr>\n",
              "      <th>0</th>\n",
              "      <td>Ada</td>\n",
              "      <td>işçi</td>\n",
              "      <td>11.11.2010</td>\n",
              "      <td>21</td>\n",
              "      <td>NaN</td>\n",
              "      <td>89</td>\n",
              "    </tr>\n",
              "    <tr>\n",
              "      <th>9</th>\n",
              "      <td>Necmi</td>\n",
              "      <td>NaN</td>\n",
              "      <td>NaN</td>\n",
              "      <td>29</td>\n",
              "      <td>NaN</td>\n",
              "      <td>92</td>\n",
              "    </tr>\n",
              "  </tbody>\n",
              "</table>\n",
              "</div>"
            ],
            "text/plain": [
              "       İsim     Meslek       Tarih  Yaş  ÇocukSayısı  Puan\n",
              "8   Hüseyin      işsiz  11.11.2010   42          NaN    54\n",
              "3     Ahmet    serbest  18.11.2011   44          NaN    55\n",
              "10    Nalan        NaN  18.11.2011   41          NaN    61\n",
              "11    Namık      memur  18.11.2011   43          NaN    69\n",
              "4    Mehmet    serbest  18.11.2011   31          NaN    70\n",
              "6      Veli        NaN         NaN   35          2.0    73\n",
              "2     Sibel      memur  11.11.2010   25          NaN    77\n",
              "5       Ali        NaN         NaN   27          1.0    79\n",
              "7      Ayşe  sigortacı         NaN   33          0.0    79\n",
              "1       Cem       işçi  11.11.2010   24          NaN    87\n",
              "0       Ada       işçi  11.11.2010   21          NaN    89\n",
              "9     Necmi        NaN         NaN   29          NaN    92"
            ]
          },
          "metadata": {
            "tags": []
          },
          "execution_count": 29
        }
      ]
    },
    {
      "cell_type": "code",
      "metadata": {
        "colab": {
          "base_uri": "https://localhost:8080/",
          "height": 419
        },
        "id": "KsIt_PiPbsfs",
        "outputId": "eb7fad2a-54eb-41ec-cb9e-c409121d88fb"
      },
      "source": [
        "df.sort_values('İsim', axis = 0, ascending = True)"
      ],
      "execution_count": 30,
      "outputs": [
        {
          "output_type": "execute_result",
          "data": {
            "text/html": [
              "<div>\n",
              "<style scoped>\n",
              "    .dataframe tbody tr th:only-of-type {\n",
              "        vertical-align: middle;\n",
              "    }\n",
              "\n",
              "    .dataframe tbody tr th {\n",
              "        vertical-align: top;\n",
              "    }\n",
              "\n",
              "    .dataframe thead th {\n",
              "        text-align: right;\n",
              "    }\n",
              "</style>\n",
              "<table border=\"1\" class=\"dataframe\">\n",
              "  <thead>\n",
              "    <tr style=\"text-align: right;\">\n",
              "      <th></th>\n",
              "      <th>İsim</th>\n",
              "      <th>Meslek</th>\n",
              "      <th>Tarih</th>\n",
              "      <th>Yaş</th>\n",
              "      <th>ÇocukSayısı</th>\n",
              "      <th>Puan</th>\n",
              "    </tr>\n",
              "  </thead>\n",
              "  <tbody>\n",
              "    <tr>\n",
              "      <th>0</th>\n",
              "      <td>Ada</td>\n",
              "      <td>işçi</td>\n",
              "      <td>11.11.2010</td>\n",
              "      <td>21</td>\n",
              "      <td>NaN</td>\n",
              "      <td>89</td>\n",
              "    </tr>\n",
              "    <tr>\n",
              "      <th>3</th>\n",
              "      <td>Ahmet</td>\n",
              "      <td>serbest</td>\n",
              "      <td>18.11.2011</td>\n",
              "      <td>44</td>\n",
              "      <td>NaN</td>\n",
              "      <td>55</td>\n",
              "    </tr>\n",
              "    <tr>\n",
              "      <th>5</th>\n",
              "      <td>Ali</td>\n",
              "      <td>NaN</td>\n",
              "      <td>NaN</td>\n",
              "      <td>27</td>\n",
              "      <td>1.0</td>\n",
              "      <td>79</td>\n",
              "    </tr>\n",
              "    <tr>\n",
              "      <th>7</th>\n",
              "      <td>Ayşe</td>\n",
              "      <td>sigortacı</td>\n",
              "      <td>NaN</td>\n",
              "      <td>33</td>\n",
              "      <td>0.0</td>\n",
              "      <td>79</td>\n",
              "    </tr>\n",
              "    <tr>\n",
              "      <th>1</th>\n",
              "      <td>Cem</td>\n",
              "      <td>işçi</td>\n",
              "      <td>11.11.2010</td>\n",
              "      <td>24</td>\n",
              "      <td>NaN</td>\n",
              "      <td>87</td>\n",
              "    </tr>\n",
              "    <tr>\n",
              "      <th>8</th>\n",
              "      <td>Hüseyin</td>\n",
              "      <td>işsiz</td>\n",
              "      <td>11.11.2010</td>\n",
              "      <td>42</td>\n",
              "      <td>NaN</td>\n",
              "      <td>54</td>\n",
              "    </tr>\n",
              "    <tr>\n",
              "      <th>4</th>\n",
              "      <td>Mehmet</td>\n",
              "      <td>serbest</td>\n",
              "      <td>18.11.2011</td>\n",
              "      <td>31</td>\n",
              "      <td>NaN</td>\n",
              "      <td>70</td>\n",
              "    </tr>\n",
              "    <tr>\n",
              "      <th>10</th>\n",
              "      <td>Nalan</td>\n",
              "      <td>NaN</td>\n",
              "      <td>18.11.2011</td>\n",
              "      <td>41</td>\n",
              "      <td>NaN</td>\n",
              "      <td>61</td>\n",
              "    </tr>\n",
              "    <tr>\n",
              "      <th>11</th>\n",
              "      <td>Namık</td>\n",
              "      <td>memur</td>\n",
              "      <td>18.11.2011</td>\n",
              "      <td>43</td>\n",
              "      <td>NaN</td>\n",
              "      <td>69</td>\n",
              "    </tr>\n",
              "    <tr>\n",
              "      <th>9</th>\n",
              "      <td>Necmi</td>\n",
              "      <td>NaN</td>\n",
              "      <td>NaN</td>\n",
              "      <td>29</td>\n",
              "      <td>NaN</td>\n",
              "      <td>92</td>\n",
              "    </tr>\n",
              "    <tr>\n",
              "      <th>2</th>\n",
              "      <td>Sibel</td>\n",
              "      <td>memur</td>\n",
              "      <td>11.11.2010</td>\n",
              "      <td>25</td>\n",
              "      <td>NaN</td>\n",
              "      <td>77</td>\n",
              "    </tr>\n",
              "    <tr>\n",
              "      <th>6</th>\n",
              "      <td>Veli</td>\n",
              "      <td>NaN</td>\n",
              "      <td>NaN</td>\n",
              "      <td>35</td>\n",
              "      <td>2.0</td>\n",
              "      <td>73</td>\n",
              "    </tr>\n",
              "  </tbody>\n",
              "</table>\n",
              "</div>"
            ],
            "text/plain": [
              "       İsim     Meslek       Tarih  Yaş  ÇocukSayısı  Puan\n",
              "0       Ada       işçi  11.11.2010   21          NaN    89\n",
              "3     Ahmet    serbest  18.11.2011   44          NaN    55\n",
              "5       Ali        NaN         NaN   27          1.0    79\n",
              "7      Ayşe  sigortacı         NaN   33          0.0    79\n",
              "1       Cem       işçi  11.11.2010   24          NaN    87\n",
              "8   Hüseyin      işsiz  11.11.2010   42          NaN    54\n",
              "4    Mehmet    serbest  18.11.2011   31          NaN    70\n",
              "10    Nalan        NaN  18.11.2011   41          NaN    61\n",
              "11    Namık      memur  18.11.2011   43          NaN    69\n",
              "9     Necmi        NaN         NaN   29          NaN    92\n",
              "2     Sibel      memur  11.11.2010   25          NaN    77\n",
              "6      Veli        NaN         NaN   35          2.0    73"
            ]
          },
          "metadata": {
            "tags": []
          },
          "execution_count": 30
        }
      ]
    },
    {
      "cell_type": "code",
      "metadata": {
        "id": "8QqH6k-U5Pow",
        "colab": {
          "base_uri": "https://localhost:8080/",
          "height": 419
        },
        "outputId": "574f384c-c458-4cda-b3c1-0d17dd80b1e5"
      },
      "source": [
        "#Sıralama (sorting)\n",
        "#Yaş bilgisine göre azalan şekilde sırala (büyükten → küçüğe).\n",
        "df.sort_values('Yaş', axis = 0, ascending = False)"
      ],
      "execution_count": 31,
      "outputs": [
        {
          "output_type": "execute_result",
          "data": {
            "text/html": [
              "<div>\n",
              "<style scoped>\n",
              "    .dataframe tbody tr th:only-of-type {\n",
              "        vertical-align: middle;\n",
              "    }\n",
              "\n",
              "    .dataframe tbody tr th {\n",
              "        vertical-align: top;\n",
              "    }\n",
              "\n",
              "    .dataframe thead th {\n",
              "        text-align: right;\n",
              "    }\n",
              "</style>\n",
              "<table border=\"1\" class=\"dataframe\">\n",
              "  <thead>\n",
              "    <tr style=\"text-align: right;\">\n",
              "      <th></th>\n",
              "      <th>İsim</th>\n",
              "      <th>Meslek</th>\n",
              "      <th>Tarih</th>\n",
              "      <th>Yaş</th>\n",
              "      <th>ÇocukSayısı</th>\n",
              "      <th>Puan</th>\n",
              "    </tr>\n",
              "  </thead>\n",
              "  <tbody>\n",
              "    <tr>\n",
              "      <th>3</th>\n",
              "      <td>Ahmet</td>\n",
              "      <td>serbest</td>\n",
              "      <td>18.11.2011</td>\n",
              "      <td>44</td>\n",
              "      <td>NaN</td>\n",
              "      <td>55</td>\n",
              "    </tr>\n",
              "    <tr>\n",
              "      <th>11</th>\n",
              "      <td>Namık</td>\n",
              "      <td>memur</td>\n",
              "      <td>18.11.2011</td>\n",
              "      <td>43</td>\n",
              "      <td>NaN</td>\n",
              "      <td>69</td>\n",
              "    </tr>\n",
              "    <tr>\n",
              "      <th>8</th>\n",
              "      <td>Hüseyin</td>\n",
              "      <td>işsiz</td>\n",
              "      <td>11.11.2010</td>\n",
              "      <td>42</td>\n",
              "      <td>NaN</td>\n",
              "      <td>54</td>\n",
              "    </tr>\n",
              "    <tr>\n",
              "      <th>10</th>\n",
              "      <td>Nalan</td>\n",
              "      <td>NaN</td>\n",
              "      <td>18.11.2011</td>\n",
              "      <td>41</td>\n",
              "      <td>NaN</td>\n",
              "      <td>61</td>\n",
              "    </tr>\n",
              "    <tr>\n",
              "      <th>6</th>\n",
              "      <td>Veli</td>\n",
              "      <td>NaN</td>\n",
              "      <td>NaN</td>\n",
              "      <td>35</td>\n",
              "      <td>2.0</td>\n",
              "      <td>73</td>\n",
              "    </tr>\n",
              "    <tr>\n",
              "      <th>7</th>\n",
              "      <td>Ayşe</td>\n",
              "      <td>sigortacı</td>\n",
              "      <td>NaN</td>\n",
              "      <td>33</td>\n",
              "      <td>0.0</td>\n",
              "      <td>79</td>\n",
              "    </tr>\n",
              "    <tr>\n",
              "      <th>4</th>\n",
              "      <td>Mehmet</td>\n",
              "      <td>serbest</td>\n",
              "      <td>18.11.2011</td>\n",
              "      <td>31</td>\n",
              "      <td>NaN</td>\n",
              "      <td>70</td>\n",
              "    </tr>\n",
              "    <tr>\n",
              "      <th>9</th>\n",
              "      <td>Necmi</td>\n",
              "      <td>NaN</td>\n",
              "      <td>NaN</td>\n",
              "      <td>29</td>\n",
              "      <td>NaN</td>\n",
              "      <td>92</td>\n",
              "    </tr>\n",
              "    <tr>\n",
              "      <th>5</th>\n",
              "      <td>Ali</td>\n",
              "      <td>NaN</td>\n",
              "      <td>NaN</td>\n",
              "      <td>27</td>\n",
              "      <td>1.0</td>\n",
              "      <td>79</td>\n",
              "    </tr>\n",
              "    <tr>\n",
              "      <th>2</th>\n",
              "      <td>Sibel</td>\n",
              "      <td>memur</td>\n",
              "      <td>11.11.2010</td>\n",
              "      <td>25</td>\n",
              "      <td>NaN</td>\n",
              "      <td>77</td>\n",
              "    </tr>\n",
              "    <tr>\n",
              "      <th>1</th>\n",
              "      <td>Cem</td>\n",
              "      <td>işçi</td>\n",
              "      <td>11.11.2010</td>\n",
              "      <td>24</td>\n",
              "      <td>NaN</td>\n",
              "      <td>87</td>\n",
              "    </tr>\n",
              "    <tr>\n",
              "      <th>0</th>\n",
              "      <td>Ada</td>\n",
              "      <td>işçi</td>\n",
              "      <td>11.11.2010</td>\n",
              "      <td>21</td>\n",
              "      <td>NaN</td>\n",
              "      <td>89</td>\n",
              "    </tr>\n",
              "  </tbody>\n",
              "</table>\n",
              "</div>"
            ],
            "text/plain": [
              "       İsim     Meslek       Tarih  Yaş  ÇocukSayısı  Puan\n",
              "3     Ahmet    serbest  18.11.2011   44          NaN    55\n",
              "11    Namık      memur  18.11.2011   43          NaN    69\n",
              "8   Hüseyin      işsiz  11.11.2010   42          NaN    54\n",
              "10    Nalan        NaN  18.11.2011   41          NaN    61\n",
              "6      Veli        NaN         NaN   35          2.0    73\n",
              "7      Ayşe  sigortacı         NaN   33          0.0    79\n",
              "4    Mehmet    serbest  18.11.2011   31          NaN    70\n",
              "9     Necmi        NaN         NaN   29          NaN    92\n",
              "5       Ali        NaN         NaN   27          1.0    79\n",
              "2     Sibel      memur  11.11.2010   25          NaN    77\n",
              "1       Cem       işçi  11.11.2010   24          NaN    87\n",
              "0       Ada       işçi  11.11.2010   21          NaN    89"
            ]
          },
          "metadata": {
            "tags": []
          },
          "execution_count": 31
        }
      ]
    },
    {
      "cell_type": "code",
      "metadata": {
        "id": "9kBVfoin5ksN",
        "colab": {
          "base_uri": "https://localhost:8080/",
          "height": 264
        },
        "outputId": "64aea6ff-35dc-46b0-9d19-4765bbd00394"
      },
      "source": [
        "#Koşul ve sıralamayı birlikte kullanma\n",
        "#Yaşı 30'dan ve Puanı 50'den büyük olan kayıtları, puan bilgisine göre azalan şekilde sırala.\n",
        "df[(df['Yaş']>30) & (df['Puan']>50)].sort_values('Yaş', axis=0, ascending=False)"
      ],
      "execution_count": 32,
      "outputs": [
        {
          "output_type": "execute_result",
          "data": {
            "text/html": [
              "<div>\n",
              "<style scoped>\n",
              "    .dataframe tbody tr th:only-of-type {\n",
              "        vertical-align: middle;\n",
              "    }\n",
              "\n",
              "    .dataframe tbody tr th {\n",
              "        vertical-align: top;\n",
              "    }\n",
              "\n",
              "    .dataframe thead th {\n",
              "        text-align: right;\n",
              "    }\n",
              "</style>\n",
              "<table border=\"1\" class=\"dataframe\">\n",
              "  <thead>\n",
              "    <tr style=\"text-align: right;\">\n",
              "      <th></th>\n",
              "      <th>İsim</th>\n",
              "      <th>Meslek</th>\n",
              "      <th>Tarih</th>\n",
              "      <th>Yaş</th>\n",
              "      <th>ÇocukSayısı</th>\n",
              "      <th>Puan</th>\n",
              "    </tr>\n",
              "  </thead>\n",
              "  <tbody>\n",
              "    <tr>\n",
              "      <th>3</th>\n",
              "      <td>Ahmet</td>\n",
              "      <td>serbest</td>\n",
              "      <td>18.11.2011</td>\n",
              "      <td>44</td>\n",
              "      <td>NaN</td>\n",
              "      <td>55</td>\n",
              "    </tr>\n",
              "    <tr>\n",
              "      <th>11</th>\n",
              "      <td>Namık</td>\n",
              "      <td>memur</td>\n",
              "      <td>18.11.2011</td>\n",
              "      <td>43</td>\n",
              "      <td>NaN</td>\n",
              "      <td>69</td>\n",
              "    </tr>\n",
              "    <tr>\n",
              "      <th>8</th>\n",
              "      <td>Hüseyin</td>\n",
              "      <td>işsiz</td>\n",
              "      <td>11.11.2010</td>\n",
              "      <td>42</td>\n",
              "      <td>NaN</td>\n",
              "      <td>54</td>\n",
              "    </tr>\n",
              "    <tr>\n",
              "      <th>10</th>\n",
              "      <td>Nalan</td>\n",
              "      <td>NaN</td>\n",
              "      <td>18.11.2011</td>\n",
              "      <td>41</td>\n",
              "      <td>NaN</td>\n",
              "      <td>61</td>\n",
              "    </tr>\n",
              "    <tr>\n",
              "      <th>6</th>\n",
              "      <td>Veli</td>\n",
              "      <td>NaN</td>\n",
              "      <td>NaN</td>\n",
              "      <td>35</td>\n",
              "      <td>2.0</td>\n",
              "      <td>73</td>\n",
              "    </tr>\n",
              "    <tr>\n",
              "      <th>7</th>\n",
              "      <td>Ayşe</td>\n",
              "      <td>sigortacı</td>\n",
              "      <td>NaN</td>\n",
              "      <td>33</td>\n",
              "      <td>0.0</td>\n",
              "      <td>79</td>\n",
              "    </tr>\n",
              "    <tr>\n",
              "      <th>4</th>\n",
              "      <td>Mehmet</td>\n",
              "      <td>serbest</td>\n",
              "      <td>18.11.2011</td>\n",
              "      <td>31</td>\n",
              "      <td>NaN</td>\n",
              "      <td>70</td>\n",
              "    </tr>\n",
              "  </tbody>\n",
              "</table>\n",
              "</div>"
            ],
            "text/plain": [
              "       İsim     Meslek       Tarih  Yaş  ÇocukSayısı  Puan\n",
              "3     Ahmet    serbest  18.11.2011   44          NaN    55\n",
              "11    Namık      memur  18.11.2011   43          NaN    69\n",
              "8   Hüseyin      işsiz  11.11.2010   42          NaN    54\n",
              "10    Nalan        NaN  18.11.2011   41          NaN    61\n",
              "6      Veli        NaN         NaN   35          2.0    73\n",
              "7      Ayşe  sigortacı         NaN   33          0.0    79\n",
              "4    Mehmet    serbest  18.11.2011   31          NaN    70"
            ]
          },
          "metadata": {
            "tags": []
          },
          "execution_count": 32
        }
      ]
    },
    {
      "cell_type": "code",
      "metadata": {
        "id": "rWbVPVwl521j",
        "colab": {
          "base_uri": "https://localhost:8080/"
        },
        "outputId": "cd1302ac-9683-42c1-f01f-622060683f37"
      },
      "source": [
        "#Gruplama: Meslek bazında kayıt sayısı görüntüleme (groupby)\n",
        "df.groupby('Meslek').size()"
      ],
      "execution_count": 33,
      "outputs": [
        {
          "output_type": "execute_result",
          "data": {
            "text/plain": [
              "Meslek\n",
              "işsiz        1\n",
              "işçi         2\n",
              "memur        2\n",
              "serbest      2\n",
              "sigortacı    1\n",
              "dtype: int64"
            ]
          },
          "metadata": {
            "tags": []
          },
          "execution_count": 33
        }
      ]
    },
    {
      "cell_type": "code",
      "metadata": {
        "colab": {
          "base_uri": "https://localhost:8080/"
        },
        "id": "jrCM0O5CdxDL",
        "outputId": "92a156b6-1328-4a51-f398-8581dec5fce3"
      },
      "source": [
        "df.groupby('Yaş').size()"
      ],
      "execution_count": 34,
      "outputs": [
        {
          "output_type": "execute_result",
          "data": {
            "text/plain": [
              "Yaş\n",
              "21    1\n",
              "24    1\n",
              "25    1\n",
              "27    1\n",
              "29    1\n",
              "31    1\n",
              "33    1\n",
              "35    1\n",
              "41    1\n",
              "42    1\n",
              "43    1\n",
              "44    1\n",
              "dtype: int64"
            ]
          },
          "metadata": {
            "tags": []
          },
          "execution_count": 34
        }
      ]
    },
    {
      "cell_type": "code",
      "metadata": {
        "colab": {
          "base_uri": "https://localhost:8080/"
        },
        "id": "-WLFb1Zad469",
        "outputId": "d2a99b3c-9fcc-47bf-b327-b4c003061cea"
      },
      "source": [
        "df.groupby('Puan').size()"
      ],
      "execution_count": 35,
      "outputs": [
        {
          "output_type": "execute_result",
          "data": {
            "text/plain": [
              "Puan\n",
              "54    1\n",
              "55    1\n",
              "61    1\n",
              "69    1\n",
              "70    1\n",
              "73    1\n",
              "77    1\n",
              "79    2\n",
              "87    1\n",
              "89    1\n",
              "92    1\n",
              "dtype: int64"
            ]
          },
          "metadata": {
            "tags": []
          },
          "execution_count": 35
        }
      ]
    },
    {
      "cell_type": "code",
      "metadata": {
        "id": "H6BWz-pn6CX5",
        "colab": {
          "base_uri": "https://localhost:8080/"
        },
        "outputId": "b5204ccf-e364-4481-975d-9eb9f8d51720"
      },
      "source": [
        "#Mesleği girilmeyen ya da None olan kayıtları gruplamaya dahil etmek için aşağıdaki kod parçasını kullanabiliriz. \n",
        "#Aşağıdaki kod parçasında olduğu gibi gruplama yapmadan hemen önce astype(str) ile tip dönüşümü yapabiliriz.\n",
        "df['Meslek'] = df['Meslek'].astype(str)\n",
        "df.groupby('Meslek').size()"
      ],
      "execution_count": 36,
      "outputs": [
        {
          "output_type": "execute_result",
          "data": {
            "text/plain": [
              "Meslek\n",
              "işsiz        1\n",
              "işçi         2\n",
              "memur        2\n",
              "nan          4\n",
              "serbest      2\n",
              "sigortacı    1\n",
              "dtype: int64"
            ]
          },
          "metadata": {
            "tags": []
          },
          "execution_count": 36
        }
      ]
    },
    {
      "cell_type": "code",
      "metadata": {
        "id": "2g4nxmYA6QrB",
        "colab": {
          "base_uri": "https://localhost:8080/"
        },
        "outputId": "2fe4bf13-fa8d-477d-d010-a9c300d32214"
      },
      "source": [
        "#Gruplama: Meslek bazında alınan puanların ortalamasını görüntüleme (groupby)\n",
        "#lambda ve apply() fonksiyonunu birlikte kullanıyoruz.\n",
        "df.groupby('Meslek')['Puan'].apply(lambda x: np.mean(x))"
      ],
      "execution_count": 37,
      "outputs": [
        {
          "output_type": "execute_result",
          "data": {
            "text/plain": [
              "Meslek\n",
              "işsiz        54.00\n",
              "işçi         88.00\n",
              "memur        73.00\n",
              "nan          76.25\n",
              "serbest      62.50\n",
              "sigortacı    79.00\n",
              "Name: Puan, dtype: float64"
            ]
          },
          "metadata": {
            "tags": []
          },
          "execution_count": 37
        }
      ]
    },
    {
      "cell_type": "code",
      "metadata": {
        "id": "P0-0g4Wyr7gP",
        "colab": {
          "base_uri": "https://localhost:8080/",
          "height": 240
        },
        "outputId": "bb97ca5e-208f-46f0-ac5b-db918614bb5b"
      },
      "source": [
        "df.groupby('Puan').size()"
      ],
      "execution_count": null,
      "outputs": [
        {
          "output_type": "execute_result",
          "data": {
            "text/plain": [
              "Puan\n",
              "54    1\n",
              "55    1\n",
              "61    1\n",
              "69    1\n",
              "70    1\n",
              "73    1\n",
              "77    1\n",
              "79    2\n",
              "87    1\n",
              "89    1\n",
              "92    1\n",
              "dtype: int64"
            ]
          },
          "metadata": {
            "tags": []
          },
          "execution_count": 127
        }
      ]
    },
    {
      "cell_type": "code",
      "metadata": {
        "id": "gsKb3iK36ZMi",
        "colab": {
          "base_uri": "https://localhost:8080/"
        },
        "outputId": "656217a9-cbb5-4fdb-c076-90c567420e6a"
      },
      "source": [
        "#Mod (Sayısal bir veri serisi içindeki en çok tekrar eden sayı)\n",
        "#Puan özniteliğinin modu\n",
        "df['Puan'].mode()\n"
      ],
      "execution_count": 38,
      "outputs": [
        {
          "output_type": "execute_result",
          "data": {
            "text/plain": [
              "0    79\n",
              "dtype: int64"
            ]
          },
          "metadata": {
            "tags": []
          },
          "execution_count": 38
        }
      ]
    },
    {
      "cell_type": "code",
      "metadata": {
        "id": "pUDq2FPksheg",
        "colab": {
          "base_uri": "https://localhost:8080/"
        },
        "outputId": "1545f5e0-4af3-48c2-945a-eff0e15ac2b4"
      },
      "source": [
        "df.groupby('ÇocukSayısı').size()"
      ],
      "execution_count": 40,
      "outputs": [
        {
          "output_type": "execute_result",
          "data": {
            "text/plain": [
              "ÇocukSayısı\n",
              "0.0    1\n",
              "1.0    1\n",
              "2.0    1\n",
              "dtype: int64"
            ]
          },
          "metadata": {
            "tags": []
          },
          "execution_count": 40
        }
      ]
    },
    {
      "cell_type": "code",
      "metadata": {
        "id": "Z52K_gAxsK3F",
        "colab": {
          "base_uri": "https://localhost:8080/"
        },
        "outputId": "05bfec44-72c6-4f59-fe17-f85e39c7fdad"
      },
      "source": [
        "df['ÇocukSayısı'].mode()"
      ],
      "execution_count": 41,
      "outputs": [
        {
          "output_type": "execute_result",
          "data": {
            "text/plain": [
              "0    0.0\n",
              "1    1.0\n",
              "2    2.0\n",
              "dtype: float64"
            ]
          },
          "metadata": {
            "tags": []
          },
          "execution_count": 41
        }
      ]
    },
    {
      "cell_type": "code",
      "metadata": {
        "id": "X6JyH4ux6qIb",
        "colab": {
          "base_uri": "https://localhost:8080/"
        },
        "outputId": "ef455a92-386f-4020-e1c7-cd1af1e312d7"
      },
      "source": [
        "#Medyan (Ortanca Sayısal bir veri serisi sıralandığında ortada kalan sayıdır)\n",
        "#Puan özniteliğinin medyanı\n",
        "df['Puan'].median()\n"
      ],
      "execution_count": 42,
      "outputs": [
        {
          "output_type": "execute_result",
          "data": {
            "text/plain": [
              "75.0"
            ]
          },
          "metadata": {
            "tags": []
          },
          "execution_count": 42
        }
      ]
    },
    {
      "cell_type": "code",
      "metadata": {
        "id": "dLipYwxq65O2",
        "colab": {
          "base_uri": "https://localhost:8080/",
          "height": 34
        },
        "outputId": "631837bb-7aeb-40a1-f12f-485955388426"
      },
      "source": [
        "#Aritmetik Ortalama\n",
        "#Bir serideki sayıların toplamının serinin eleman adedine bölünmesi ile elde edilen değerdir ve aşağıdaki gibi hesaplanır.\n",
        "#Puan özniteliğinin ortalaması\n",
        "df['Puan'].mean()"
      ],
      "execution_count": null,
      "outputs": [
        {
          "output_type": "execute_result",
          "data": {
            "text/plain": [
              "73.75"
            ]
          },
          "metadata": {
            "tags": []
          },
          "execution_count": 134
        }
      ]
    },
    {
      "cell_type": "code",
      "metadata": {
        "id": "8GVHtFBh7lIF",
        "colab": {
          "base_uri": "https://localhost:8080/",
          "height": 86
        },
        "outputId": "4911e4f6-7ae8-463d-db53-6080f7508d54"
      },
      "source": [
        "#Sayısal tüm özniteliklerin ortalaması el edilmek istenirse aşağıdaki kod parçasından yararlanılabilir.\n",
        "#Sayısal tüm özniteliklerin ortalamaları\n",
        "df.mean(axis = 0, skipna = True)"
      ],
      "execution_count": null,
      "outputs": [
        {
          "output_type": "execute_result",
          "data": {
            "text/plain": [
              "Yaş             32.916667\n",
              "Çocuk_Sayısı     2.416667\n",
              "Puan            73.750000\n",
              "dtype: float64"
            ]
          },
          "metadata": {
            "tags": []
          },
          "execution_count": 135
        }
      ]
    },
    {
      "cell_type": "code",
      "metadata": {
        "id": "_59IFQ_y7w6B",
        "colab": {
          "base_uri": "https://localhost:8080/",
          "height": 34
        },
        "outputId": "907ceebc-9c93-47a5-a1a4-0e0c505a7b44"
      },
      "source": [
        "#Standart Sapma: Bir serideki sayıların, serinin aritmetik ortalamasından farklarının karelerinin toplamının, serinin eleman sayısının bir eksiğine bölümünün kareköküdür. \n",
        "#Puan özniteliğinin standart sapması\n",
        "df['Puan'].std()"
      ],
      "execution_count": null,
      "outputs": [
        {
          "output_type": "execute_result",
          "data": {
            "text/plain": [
              "12.606816338069583"
            ]
          },
          "metadata": {
            "tags": []
          },
          "execution_count": 136
        }
      ]
    },
    {
      "cell_type": "code",
      "metadata": {
        "id": "7WQ5UfWNARsG",
        "colab": {
          "base_uri": "https://localhost:8080/",
          "height": 295
        },
        "outputId": "2ad3a058-64db-44f2-8d48-ad90c6615405"
      },
      "source": [
        "df.describe()"
      ],
      "execution_count": 43,
      "outputs": [
        {
          "output_type": "execute_result",
          "data": {
            "text/html": [
              "<div>\n",
              "<style scoped>\n",
              "    .dataframe tbody tr th:only-of-type {\n",
              "        vertical-align: middle;\n",
              "    }\n",
              "\n",
              "    .dataframe tbody tr th {\n",
              "        vertical-align: top;\n",
              "    }\n",
              "\n",
              "    .dataframe thead th {\n",
              "        text-align: right;\n",
              "    }\n",
              "</style>\n",
              "<table border=\"1\" class=\"dataframe\">\n",
              "  <thead>\n",
              "    <tr style=\"text-align: right;\">\n",
              "      <th></th>\n",
              "      <th>Yaş</th>\n",
              "      <th>ÇocukSayısı</th>\n",
              "      <th>Puan</th>\n",
              "    </tr>\n",
              "  </thead>\n",
              "  <tbody>\n",
              "    <tr>\n",
              "      <th>count</th>\n",
              "      <td>12.000000</td>\n",
              "      <td>3.0</td>\n",
              "      <td>12.000000</td>\n",
              "    </tr>\n",
              "    <tr>\n",
              "      <th>mean</th>\n",
              "      <td>32.916667</td>\n",
              "      <td>1.0</td>\n",
              "      <td>73.750000</td>\n",
              "    </tr>\n",
              "    <tr>\n",
              "      <th>std</th>\n",
              "      <td>8.061788</td>\n",
              "      <td>1.0</td>\n",
              "      <td>12.606816</td>\n",
              "    </tr>\n",
              "    <tr>\n",
              "      <th>min</th>\n",
              "      <td>21.000000</td>\n",
              "      <td>0.0</td>\n",
              "      <td>54.000000</td>\n",
              "    </tr>\n",
              "    <tr>\n",
              "      <th>25%</th>\n",
              "      <td>26.500000</td>\n",
              "      <td>0.5</td>\n",
              "      <td>67.000000</td>\n",
              "    </tr>\n",
              "    <tr>\n",
              "      <th>50%</th>\n",
              "      <td>32.000000</td>\n",
              "      <td>1.0</td>\n",
              "      <td>75.000000</td>\n",
              "    </tr>\n",
              "    <tr>\n",
              "      <th>75%</th>\n",
              "      <td>41.250000</td>\n",
              "      <td>1.5</td>\n",
              "      <td>81.000000</td>\n",
              "    </tr>\n",
              "    <tr>\n",
              "      <th>max</th>\n",
              "      <td>44.000000</td>\n",
              "      <td>2.0</td>\n",
              "      <td>92.000000</td>\n",
              "    </tr>\n",
              "  </tbody>\n",
              "</table>\n",
              "</div>"
            ],
            "text/plain": [
              "             Yaş  ÇocukSayısı       Puan\n",
              "count  12.000000          3.0  12.000000\n",
              "mean   32.916667          1.0  73.750000\n",
              "std     8.061788          1.0  12.606816\n",
              "min    21.000000          0.0  54.000000\n",
              "25%    26.500000          0.5  67.000000\n",
              "50%    32.000000          1.0  75.000000\n",
              "75%    41.250000          1.5  81.000000\n",
              "max    44.000000          2.0  92.000000"
            ]
          },
          "metadata": {
            "tags": []
          },
          "execution_count": 43
        }
      ]
    },
    {
      "cell_type": "code",
      "metadata": {
        "id": "dah-OrVp8JKa",
        "colab": {
          "base_uri": "https://localhost:8080/",
          "height": 141
        },
        "outputId": "d041d333-d7dc-45f2-8464-5bc8871cf895"
      },
      "source": [
        "#Kovaryans: Sayısal değere sahip değişkenlerin/özniteliklerin (Örn: Puan ile Yaş) birlikte nasıl değiştiğini diğer bir tabirle ilişkilerini araştırır. İlişkinin yönü +(pozitif, aynı yönlü),-(negatif, ters yönlü) ya da 0 (sıfır)olabilir.\n",
        "#Kovaryans matrisi hesapla\n",
        "df.cov()\n",
        "#Kovaryans matrisi bize; Puan ile Yaş arasında negatif, Puan ile ÇocukSayısı arasında negatif, Yaş ile ÇocukSayısı arasında pozitif bir ilişkinin var olduğunu göstermektedir. Ancak ilişkinin şiddeti hakkında bir yorum yapamayız."
      ],
      "execution_count": null,
      "outputs": [
        {
          "output_type": "execute_result",
          "data": {
            "text/html": [
              "<div>\n",
              "<style scoped>\n",
              "    .dataframe tbody tr th:only-of-type {\n",
              "        vertical-align: middle;\n",
              "    }\n",
              "\n",
              "    .dataframe tbody tr th {\n",
              "        vertical-align: top;\n",
              "    }\n",
              "\n",
              "    .dataframe thead th {\n",
              "        text-align: right;\n",
              "    }\n",
              "</style>\n",
              "<table border=\"1\" class=\"dataframe\">\n",
              "  <thead>\n",
              "    <tr style=\"text-align: right;\">\n",
              "      <th></th>\n",
              "      <th>Yaş</th>\n",
              "      <th>Çocuk_Sayısı</th>\n",
              "      <th>Puan</th>\n",
              "    </tr>\n",
              "  </thead>\n",
              "  <tbody>\n",
              "    <tr>\n",
              "      <th>Yaş</th>\n",
              "      <td>64.992424</td>\n",
              "      <td>-2.507576</td>\n",
              "      <td>-87.295455</td>\n",
              "    </tr>\n",
              "    <tr>\n",
              "      <th>Çocuk_Sayısı</th>\n",
              "      <td>-2.507576</td>\n",
              "      <td>2.446970</td>\n",
              "      <td>4.022727</td>\n",
              "    </tr>\n",
              "    <tr>\n",
              "      <th>Puan</th>\n",
              "      <td>-87.295455</td>\n",
              "      <td>4.022727</td>\n",
              "      <td>158.931818</td>\n",
              "    </tr>\n",
              "  </tbody>\n",
              "</table>\n",
              "</div>"
            ],
            "text/plain": [
              "                    Yaş  Çocuk_Sayısı        Puan\n",
              "Yaş           64.992424     -2.507576  -87.295455\n",
              "Çocuk_Sayısı  -2.507576      2.446970    4.022727\n",
              "Puan         -87.295455      4.022727  158.931818"
            ]
          },
          "metadata": {
            "tags": []
          },
          "execution_count": 138
        }
      ]
    },
    {
      "cell_type": "code",
      "metadata": {
        "id": "zyOltDVp8y3a",
        "colab": {
          "base_uri": "https://localhost:8080/",
          "height": 141
        },
        "outputId": "62df24e3-1856-4498-9939-e75bdc2365fc"
      },
      "source": [
        "\"\"\"Korelasyon: İki veya daha fazla bağımsız değişken (öznitelik)arasındaki ilişkinin varlığı, bu ilişkinin yönü ve şiddeti korelasyon analizi ve sonucunda \n",
        "Korelasyon katsayısı “r”, “-1” ve “1” arasında değişen değerler alır. Değer sonuçları ile ilgili yorumlar aşağıdaki gibidir.\n",
        "r = -1 → negatif yönlü mükemmel bir ilişki\n",
        "r = 1 → pozitif yönlü mükemmel bir ilişki\n",
        "r = 0 → ilişki yok\n",
        "r = 0.8 → pozitif yönlü iyi bir ilişki\n",
        "r = -0.6 → negatif yönlü orta seviye bir ilişki\n",
        "Veri kümesinde yer alan tüm öznitelikler arasındaki korelasyon katsayısı değerlerini içeren matrisi hesaplamak için aşağıdaki kod parçası kullanılabilir.\"\"\n",
        "#Korelasyon matrisi hesapla\"\"\"\n",
        "df.corr()"
      ],
      "execution_count": null,
      "outputs": [
        {
          "output_type": "execute_result",
          "data": {
            "text/html": [
              "<div>\n",
              "<style scoped>\n",
              "    .dataframe tbody tr th:only-of-type {\n",
              "        vertical-align: middle;\n",
              "    }\n",
              "\n",
              "    .dataframe tbody tr th {\n",
              "        vertical-align: top;\n",
              "    }\n",
              "\n",
              "    .dataframe thead th {\n",
              "        text-align: right;\n",
              "    }\n",
              "</style>\n",
              "<table border=\"1\" class=\"dataframe\">\n",
              "  <thead>\n",
              "    <tr style=\"text-align: right;\">\n",
              "      <th></th>\n",
              "      <th>Yaş</th>\n",
              "      <th>Çocuk_Sayısı</th>\n",
              "      <th>Puan</th>\n",
              "    </tr>\n",
              "  </thead>\n",
              "  <tbody>\n",
              "    <tr>\n",
              "      <th>Yaş</th>\n",
              "      <td>1.000000</td>\n",
              "      <td>-0.198842</td>\n",
              "      <td>-0.858924</td>\n",
              "    </tr>\n",
              "    <tr>\n",
              "      <th>Çocuk_Sayısı</th>\n",
              "      <td>-0.198842</td>\n",
              "      <td>1.000000</td>\n",
              "      <td>0.203986</td>\n",
              "    </tr>\n",
              "    <tr>\n",
              "      <th>Puan</th>\n",
              "      <td>-0.858924</td>\n",
              "      <td>0.203986</td>\n",
              "      <td>1.000000</td>\n",
              "    </tr>\n",
              "  </tbody>\n",
              "</table>\n",
              "</div>"
            ],
            "text/plain": [
              "                   Yaş  Çocuk_Sayısı      Puan\n",
              "Yaş           1.000000     -0.198842 -0.858924\n",
              "Çocuk_Sayısı -0.198842      1.000000  0.203986\n",
              "Puan         -0.858924      0.203986  1.000000"
            ]
          },
          "metadata": {
            "tags": []
          },
          "execution_count": 48
        }
      ]
    },
    {
      "cell_type": "markdown",
      "metadata": {
        "id": "vr5AHv7P9P0w"
      },
      "source": [
        "Korelasyon matrisine göre Puan ile Yaş arasında negatif (ters yönlü) güçlü bir ilişki, Puan ile ÇocukSayısı arasında yine negatif (ters yönlü) güçlü bir ilişki, Yaş ile ÇocukSayısı arasında pozitif (aynı yönlü) zayıf bir ilişki vardır.\n",
        "* Yaş arttıkça sınavdan alınan puan düşmektedir.\n",
        "* Çocuk sayısı arttıkça puan düşmektedir."
      ]
    },
    {
      "cell_type": "code",
      "metadata": {
        "id": "gIuY6rRFLgQW",
        "colab": {
          "base_uri": "https://localhost:8080/",
          "height": 52
        },
        "outputId": "46733070-a336-4d10-d397-69ba2da9d2b1"
      },
      "source": [
        "'''\n",
        "Grafik Çeşitleri\n",
        ".area()\n",
        ".bar()\n",
        ".barh()\n",
        ".box()\n",
        ".hexbin()\n",
        ".hist()\n",
        ".kde()\n",
        ".density()\n",
        ".line()\n",
        ".pie()\n",
        ".scatter()\n",
        "'''"
      ],
      "execution_count": null,
      "outputs": [
        {
          "output_type": "execute_result",
          "data": {
            "application/vnd.google.colaboratory.intrinsic+json": {
              "type": "string"
            },
            "text/plain": [
              "'\\nGrafik Çeşitleri\\n.area()\\n.bar()\\n.barh()\\n.box()\\n.hexbin()\\n.hist()\\n.kde()\\n.density()\\n.line()\\n.pie()\\n.scatter()\\n'"
            ]
          },
          "metadata": {
            "tags": []
          },
          "execution_count": 69
        }
      ]
    },
    {
      "cell_type": "code",
      "metadata": {
        "id": "FkuEiJzSw6GG",
        "colab": {
          "base_uri": "https://localhost:8080/",
          "height": 265
        },
        "outputId": "6994228f-ad79-4dbd-ad06-8b650e84c6c5"
      },
      "source": [
        "df.plot();"
      ],
      "execution_count": 51,
      "outputs": [
        {
          "output_type": "display_data",
          "data": {
            "image/png": "[encoded data removed]",
            "text/plain": [
              "<Figure size 432x288 with 1 Axes>"
            ]
          },
          "metadata": {
            "tags": [],
            "needs_background": "light"
          }
        }
      ]
    },
    {
      "cell_type": "code",
      "metadata": {
        "id": "0nhi_lER9SAf",
        "colab": {
          "base_uri": "https://localhost:8080/",
          "height": 279
        },
        "outputId": "53baae31-2c13-469b-e305-83f6b19ef94a"
      },
      "source": [
        "#Yaş ile puan arasındaki ters yönlü ilişkiyi basitçe çizdirerek, mevcut durumu görmek istersek aşağıdaki gibi kod parçasını kullanabiliriz.\n",
        "df.plot(x='ÇocukSayısı', y='Puan', style='.');"
      ],
      "execution_count": 49,
      "outputs": [
        {
          "output_type": "display_data",
          "data": {
            "image/png": "[encoded data removed]",
            "text/plain": [
              "<Figure size 432x288 with 1 Axes>"
            ]
          },
          "metadata": {
            "tags": [],
            "needs_background": "light"
          }
        }
      ]
    },
    {
      "cell_type": "code",
      "metadata": {
        "id": "5Nyegyf4GIWF",
        "colab": {
          "base_uri": "https://localhost:8080/",
          "height": 279
        },
        "outputId": "57cf002b-e459-4841-b0fd-bf50cd34bb5c"
      },
      "source": [
        "df.plot(kind='scatter', x='Yaş', y='Puan');\n"
      ],
      "execution_count": 52,
      "outputs": [
        {
          "output_type": "display_data",
          "data": {
            "image/png": "[encoded data removed]",
            "text/plain": [
              "<Figure size 432x288 with 1 Axes>"
            ]
          },
          "metadata": {
            "tags": [],
            "needs_background": "light"
          }
        }
      ]
    },
    {
      "cell_type": "code",
      "metadata": {
        "id": "uToXJ1c6yU8J",
        "colab": {
          "base_uri": "https://localhost:8080/",
          "height": 279
        },
        "outputId": "7b1e45bc-cf8f-40e8-e871-31b2c4cbf4aa"
      },
      "source": [
        "df.plot(kind='scatter', x='Yaş', y='ÇocukSayısı');"
      ],
      "execution_count": 54,
      "outputs": [
        {
          "output_type": "display_data",
          "data": {
            "image/png": "[encoded data removed]",
            "text/plain": [
              "<Figure size 432x288 with 1 Axes>"
            ]
          },
          "metadata": {
            "tags": [],
            "needs_background": "light"
          }
        }
      ]
    },
    {
      "cell_type": "code",
      "metadata": {
        "id": "gFTVuWCXBt32",
        "colab": {
          "base_uri": "https://localhost:8080/",
          "height": 299
        },
        "outputId": "ffd04d18-a36c-4c4e-b595-847caf21abff"
      },
      "source": [
        "df.plot(kind='bar', x='Yaş', y='ÇocukSayısı')"
      ],
      "execution_count": 55,
      "outputs": [
        {
          "output_type": "execute_result",
          "data": {
            "text/plain": [
              "<matplotlib.axes._subplots.AxesSubplot at 0x7f05077ba5d0>"
            ]
          },
          "metadata": {
            "tags": []
          },
          "execution_count": 55
        },
        {
          "output_type": "display_data",
          "data": {
            "image/png": "[encoded data removed]",
            "text/plain": [
              "<Figure size 432x288 with 1 Axes>"
            ]
          },
          "metadata": {
            "tags": [],
            "needs_background": "light"
          }
        }
      ]
    },
    {
      "cell_type": "code",
      "metadata": {
        "colab": {
          "base_uri": "https://localhost:8080/",
          "height": 282
        },
        "id": "Rys_hHQkPRBQ",
        "outputId": "06b3bff2-cf09-405f-c899-537a2be864ef"
      },
      "source": [
        "df.plot(kind='barh', x='Yaş', y='ÇocukSayısı')"
      ],
      "execution_count": 56,
      "outputs": [
        {
          "output_type": "execute_result",
          "data": {
            "text/plain": [
              "<matplotlib.axes._subplots.AxesSubplot at 0x7f0505885a10>"
            ]
          },
          "metadata": {
            "tags": []
          },
          "execution_count": 56
        },
        {
          "output_type": "display_data",
          "data": {
            "image/png": "[encoded data removed]",
            "text/plain": [
              "<Figure size 432x288 with 1 Axes>"
            ]
          },
          "metadata": {
            "tags": [],
            "needs_background": "light"
          }
        }
      ]
    },
    {
      "cell_type": "code",
      "metadata": {
        "id": "gcR5-hRyNzCL",
        "colab": {
          "base_uri": "https://localhost:8080/",
          "height": 279
        },
        "outputId": "c21c780f-b5c1-4437-8f76-aff63444bbd2"
      },
      "source": [
        "df.plot(y=['Yaş','ÇocukSayısı'], x='Meslek');"
      ],
      "execution_count": 57,
      "outputs": [
        {
          "output_type": "display_data",
          "data": {
            "image/png": "[encoded data removed]",
            "text/plain": [
              "<Figure size 432x288 with 1 Axes>"
            ]
          },
          "metadata": {
            "tags": [],
            "needs_background": "light"
          }
        }
      ]
    },
    {
      "cell_type": "code",
      "metadata": {
        "id": "nXfb2wx8J37Q",
        "colab": {
          "base_uri": "https://localhost:8080/",
          "height": 312
        },
        "outputId": "251ac2c4-ec05-49e5-c961-004a1f48c834"
      },
      "source": [
        "df.plot.bar(x=\"Meslek\", y=\"Puan\");\n"
      ],
      "execution_count": 58,
      "outputs": [
        {
          "output_type": "display_data",
          "data": {
            "image/png": "[encoded data removed]",
            "text/plain": [
              "<Figure size 432x288 with 1 Axes>"
            ]
          },
          "metadata": {
            "tags": [],
            "needs_background": "light"
          }
        }
      ]
    },
    {
      "cell_type": "code",
      "metadata": {
        "id": "Sf8dviKEKx5F",
        "colab": {
          "base_uri": "https://localhost:8080/",
          "height": 265
        },
        "outputId": "718333df-436a-4ad0-d061-b9f914fae776"
      },
      "source": [
        "df.plot.barh(x=\"Yaş\", y=\"Puan\");"
      ],
      "execution_count": 59,
      "outputs": [
        {
          "output_type": "display_data",
          "data": {
            "image/png": "[encoded data removed]",
            "text/plain": [
              "<Figure size 432x288 with 1 Axes>"
            ]
          },
          "metadata": {
            "tags": [],
            "needs_background": "light"
          }
        }
      ]
    },
    {
      "cell_type": "code",
      "metadata": {
        "id": "WKOlqx8tKc-Y",
        "colab": {
          "base_uri": "https://localhost:8080/",
          "height": 268
        },
        "outputId": "734936c1-0f19-432b-d7c8-7f1dd4a7e312"
      },
      "source": [
        "df.plot.bar(stacked=True);"
      ],
      "execution_count": 60,
      "outputs": [
        {
          "output_type": "display_data",
          "data": {
            "image/png": "[encoded data removed]",
            "text/plain": [
              "<Figure size 432x288 with 1 Axes>"
            ]
          },
          "metadata": {
            "tags": [],
            "needs_background": "light"
          }
        }
      ]
    },
    {
      "cell_type": "code",
      "metadata": {
        "id": "CXXvSIHZKnlA",
        "colab": {
          "base_uri": "https://localhost:8080/",
          "height": 319
        },
        "outputId": "53f7d5b0-ab8a-43e6-f259-df0c0656d15c"
      },
      "source": [
        "df.plot.box();"
      ],
      "execution_count": 61,
      "outputs": [
        {
          "output_type": "stream",
          "text": [
            "/usr/local/lib/python3.7/dist-packages/numpy/core/_asarray.py:83: VisibleDeprecationWarning: Creating an ndarray from ragged nested sequences (which is a list-or-tuple of lists-or-tuples-or ndarrays with different lengths or shapes) is deprecated. If you meant to do this, you must specify 'dtype=object' when creating the ndarray\n",
            "  return array(a, dtype, copy=False, order=order)\n"
          ],
          "name": "stderr"
        },
        {
          "output_type": "display_data",
          "data": {
            "image/png": "[encoded data removed]",
            "text/plain": [
              "<Figure size 432x288 with 1 Axes>"
            ]
          },
          "metadata": {
            "tags": [],
            "needs_background": "light"
          }
        }
      ]
    },
    {
      "cell_type": "code",
      "metadata": {
        "id": "A_6om2d6K-JS",
        "colab": {
          "base_uri": "https://localhost:8080/",
          "height": 258
        },
        "outputId": "9b23c71b-3ba7-4f91-a884-e17c3631870e"
      },
      "source": [
        "df.plot.hexbin(x=\"Yaş\", y=\"Puan\");"
      ],
      "execution_count": 62,
      "outputs": [
        {
          "output_type": "display_data",
          "data": {
            "image/png": "[encoded data removed]",
            "text/plain": [
              "<Figure size 432x288 with 2 Axes>"
            ]
          },
          "metadata": {
            "tags": [],
            "needs_background": "light"
          }
        }
      ]
    },
    {
      "cell_type": "code",
      "metadata": {
        "id": "rEHnAT_iLTmt",
        "colab": {
          "base_uri": "https://localhost:8080/",
          "height": 265
        },
        "outputId": "f4c7fc8f-ad19-4a9c-baa8-544aa97032fd"
      },
      "source": [
        "df.plot.area();"
      ],
      "execution_count": 63,
      "outputs": [
        {
          "output_type": "display_data",
          "data": {
            "image/png": "[encoded data removed]",
            "text/plain": [
              "<Figure size 432x288 with 1 Axes>"
            ]
          },
          "metadata": {
            "tags": [],
            "needs_background": "light"
          }
        }
      ]
    },
    {
      "cell_type": "code",
      "metadata": {
        "id": "LBzHzifoL4o6",
        "colab": {
          "base_uri": "https://localhost:8080/",
          "height": 282
        },
        "outputId": "fdfa97de-5865-45ca-93e7-a3ef32f1d636"
      },
      "source": [
        "df.plot.kde()"
      ],
      "execution_count": 64,
      "outputs": [
        {
          "output_type": "execute_result",
          "data": {
            "text/plain": [
              "<matplotlib.axes._subplots.AxesSubplot at 0x7f0505274cd0>"
            ]
          },
          "metadata": {
            "tags": []
          },
          "execution_count": 64
        },
        {
          "output_type": "display_data",
          "data": {
            "image/png": "[encoded data removed]",
            "text/plain": [
              "<Figure size 432x288 with 1 Axes>"
            ]
          },
          "metadata": {
            "tags": [],
            "needs_background": "light"
          }
        }
      ]
    },
    {
      "cell_type": "code",
      "metadata": {
        "id": "UTcj04MGMF-O",
        "colab": {
          "base_uri": "https://localhost:8080/",
          "height": 248
        },
        "outputId": "a47aeb46-87f2-41ee-8af4-a7b629f10582"
      },
      "source": [
        "df.plot.pie(y='ÇocukSayısı');"
      ],
      "execution_count": 66,
      "outputs": [
        {
          "output_type": "display_data",
          "data": {
            "image/png": "[encoded data removed]",
            "text/plain": [
              "<Figure size 432x288 with 1 Axes>"
            ]
          },
          "metadata": {
            "tags": []
          }
        }
      ]
    },
    {
      "cell_type": "code",
      "metadata": {
        "id": "nMbOdsRwM3Vd",
        "colab": {
          "base_uri": "https://localhost:8080/",
          "height": 357
        },
        "outputId": "7ebfac26-acba-4ae1-ad66-eadfb7c6b942"
      },
      "source": [
        "plot = df.plot.pie(y='Puan', figsize=(6, 6))"
      ],
      "execution_count": 67,
      "outputs": [
        {
          "output_type": "display_data",
          "data": {
            "image/png": "[encoded data removed]",
            "text/plain": [
              "<Figure size 432x432 with 1 Axes>"
            ]
          },
          "metadata": {
            "tags": []
          }
        }
      ]
    }
  ]
}
